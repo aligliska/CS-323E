{
 "cells": [
  {
   "cell_type": "markdown",
   "id": "f1cd178e",
   "metadata": {},
   "source": [
    "# Assignment 2\n",
    "\n",
    "In this assignment, you'll be exploring solving equations using different numerical methods.\n",
    "\n",
    "Name: Alice Gee, Mohammad Aga, Andrew Yang\n",
    "\n",
    "eid: ag67642, mba929, ay6764"
   ]
  },
  {
   "cell_type": "markdown",
   "id": "31690619",
   "metadata": {},
   "source": [
    "## Exercise 2.57\n",
    "\n",
    "In this problem you will demonstrate that all of your root finding codes work. At the beginning of this chapter we proposed the equation solving problem\n",
    "\n",
    "$$ 3 \\sin(x) + 9 = x^2 - \\cos(x) $$\n",
    "\n",
    "Write a script that calls upon your Bisection, Regula Falsi, Newton, and Secant methods one at a time to find the positive solution to this equation. Your script needs to output the solutions in a clear and readable way so you can tell which answer can from which root finding algorithm."
   ]
  },
  {
   "cell_type": "code",
   "execution_count": 1,
   "id": "45227928",
   "metadata": {},
   "outputs": [
    {
     "name": "stdout",
     "output_type": "stream",
     "text": [
      "bisection 2.9374872148036957\n",
      "Regula_Falsi 2.9374872051251546\n",
      "newton 2.9374872051080065\n",
      "secant 2.937487205200684\n"
     ]
    }
   ],
   "source": [
    "import matplotlib.pyplot as plt\n",
    "import numpy as np\n",
    "import random as rd\n",
    "import math\n",
    "# Step 1: Complete the lambda function to model the equation above. We'll use it in the functions below!\n",
    "f = lambda x: x**2 - np.cos(x) - 3*np.sin(x) - 9\n",
    "\n",
    "# Step 2: Complete the methods below\n",
    "def bisection(f, a, b, tol):\n",
    "    \"\"\"An implementation of the Bisection method for finding roots of a function.\n",
    "    \n",
    "    Arguments:\n",
    "        f: the lambda function for the function we want to find the roots for\n",
    "        a: lower bound\n",
    "        b: upper bound\n",
    "        tol: the tolerance\n",
    "        \n",
    "    Returns:\n",
    "        An estimate for the root of the function.\n",
    "    \"\"\"\n",
    "    mid = (a + b) / 2\n",
    "    new_y = f(mid)\n",
    "    while (abs(new_y) > tol):\n",
    "        mid = (a + b) / 2\n",
    "        new_y = f(mid)\n",
    "        if (new_y > 0):\n",
    "            b = mid\n",
    "        elif (new_y < 0):\n",
    "            a = mid\n",
    "        else:\n",
    "            return mid\n",
    "    return(mid)\n",
    "\n",
    "\n",
    "def Regula_Falsi (f, a, b, tol):\n",
    "    \"\"\"An implementation of the Regula-Falsi method for finding roots of a function.\n",
    "    \n",
    "    Arguments:\n",
    "        f: the lambda function for the function we want to find the roots for\n",
    "        a: lower bound\n",
    "        b: upper bound\n",
    "        tol: the tolerance\n",
    "        \n",
    "    Returns:\n",
    "        An estimate for the root of the function.\n",
    "    \"\"\"\n",
    "    m = (f(b) - f(a)) / (b - a)\n",
    "    c = (-f(a)/m) + a\n",
    "    while (abs(f(c)) > tol):\n",
    "        if (f(b)*f(c) < 0):\n",
    "            a = c\n",
    "        elif (f(a)*f(c) < 0):\n",
    "            b = c\n",
    "        elif f(c) == 0:\n",
    "            return (f(c))\n",
    "        m = (f(b) - f(a)) / (b - a)\n",
    "        c = (-f(a)/m) + a\n",
    " \n",
    "    return (c)\n",
    "\n",
    "def newton(f, f_prime, x, tol):\n",
    "    \"\"\"An implementation of the Netwon-Raphson method for finding roots of a differentiable function.\n",
    "    \n",
    "    Arguments:\n",
    "        f: the lambda function for the differentiable function we want to find the roots for\n",
    "        f_prime: hand-calculated derivative of f\n",
    "        x: initial approximation for the root\n",
    "        tol: the tolerance\n",
    "        \n",
    "    Returns:\n",
    "        An estimate for the root of the function.\n",
    "    \"\"\"\n",
    "    while (abs(f(x)) > tol):\n",
    "        x = x - (f(x)/f_prime(x)) \n",
    "    return (float(x))\n",
    "\n",
    "def secant(f, a, b, tol):\n",
    "    \"\"\"An implementation of the Secant method for finding roots of a differentiable function.\n",
    "    \n",
    "    Arguments:\n",
    "        f: the lambda function for the differentiable function we want to find the roots for\n",
    "        a: close lower approximation for the root\n",
    "        b: initial approximation for the root\n",
    "        tol: the tolerance\n",
    "        \n",
    "    Returns:\n",
    "        An estimate for the root of the function.\n",
    "    \"\"\"\n",
    "    f_prime = (f(b)-f(a)) / (b-a)\n",
    "    c = b - (f(b)/f_prime)\n",
    "    while abs(f(c)) > tol:\n",
    "        f_prime = (f(b)-f(a)) / (b-a)\n",
    "        c = b - (f(b)/f_prime)\n",
    "        a = b\n",
    "        b = c\n",
    "    return(c)\n",
    "\n",
    "# Step 4: Set the values below and ensure your values are correct!\n",
    "tol = 1e-6\n",
    "a = 0 \n",
    "b = 5 \n",
    "f_prime = lambda x: 2*x + np.sin(x) - 3*np.cos(x)\n",
    "x = 2 \n",
    "\n",
    "print(\"bisection\", bisection(f, a, b, tol))\n",
    "print(\"Regula_Falsi\", Regula_Falsi(f, a, b, tol))\n",
    "print(\"newton\", newton(f, f_prime, x, tol))\n",
    "print(\"secant\", secant(f, a, b, tol))"
   ]
  },
  {
   "cell_type": "markdown",
   "id": "3e6f0fcb",
   "metadata": {},
   "source": [
    "## Exercise 2.60\n",
    "\n",
    "There are MANY other root finding techniques beyond the four that we have studied thus far. We can build these methods using Taylor Series as follows:\n",
    "\n",
    "Near $x=0$ the function $f(x)$ is approximated by the Taylor Series \n",
    "\n",
    "$$f(x) \\approx y = f(x_0) + \\sum_{n=1}^N \\frac{f^{(n)}(x_0)}{n!} (x-x_0)^n$$\n",
    "\n",
    "where $N$ is a positive integer. In a root-finding algorithm we set $y$ to zero to find the root of the approximation function. The root of this function should be close to the actual root that we’re looking for. Therefore, to find the next iterate we solve the equation\n",
    "\n",
    "$$0 = f(x_0) + \\sum_{n=1}^N \\frac{f^{(n)}(x_0)}{n!} (x-x_0)^n$$\n",
    "\n",
    "for $x$. For example, if $N=1$, then we need to solve $0=f(x_0)(x-x_0)$ for $x$. In doing so, we get $x=x_0-\\frac{f(x_0)}{f'(x_0)}$. This is exactly Newton's Method. If $N=2$, then we need to solve:\n",
    "\n",
    "$$0 = f(x_0) + f'(x_0)(x-x_0) + \\frac{f''(x_0)}{2!}(x-x_0)^2$$\n",
    "\n",
    "for $x$."
   ]
  },
  {
   "cell_type": "markdown",
   "id": "496be6a4",
   "metadata": {},
   "source": [
    "### a)\n",
    "\n",
    "Solve for $x$ in the case that $N = 2$. Then write a Python function that implements this root-finding method."
   ]
  },
  {
   "cell_type": "code",
   "execution_count": 2,
   "id": "b1236448",
   "metadata": {},
   "outputs": [
    {
     "name": "stdout",
     "output_type": "stream",
     "text": [
      "2.60a) 2.9374872051078644\n"
     ]
    }
   ],
   "source": [
    "def newtown_n2(f, f_prime, f_double_prime, x, tol):\n",
    "    \"\"\"An implementation of the 'double' Netwon-Raphson method for finding roots of a differentiable function.\n",
    "    \n",
    "    Arguments:\n",
    "        f: the lambda function for the differentiable function we want to find the roots for\n",
    "        f_prime: hand-calculated derivative of f\n",
    "        f_double_prime: hand-calculated derivative of f\n",
    "        x: initial approximation for the root\n",
    "        tol: the tolerance\n",
    "        \n",
    "    Returns:\n",
    "        An estimate for the root of the function.\n",
    "    \"\"\"\n",
    "    x = (-f_prime(x) + math.sqrt((f_prime(x))**2 -2*(f(x))*(f_double_prime(x))) + f_double_prime(x)* x) / f_double_prime(x)\n",
    "    while abs(f(x)) > tol:\n",
    "        x = (-f_prime(x) + math.sqrt((f_prime(x))**2 -2*(f(x))*(f_double_prime(x))) + f_double_prime(x)* x) / f_double_prime(x)\n",
    "    return(x)\n",
    "\n",
    "# Make sure to complete the following\n",
    "f = lambda x: x**2 - np.cos(x) - 3*np.sin(x) - 9\n",
    "f_prime = lambda x: 2*x + np.sin(x) - 3*np.cos(x)\n",
    "f_double_prime = lambda x: 3*np.sin(x) + np.cos(x) + 2\n",
    "x = 1\n",
    "tol=1e-6\n",
    "\n",
    "print(\"2.60a)\", newtown_n2(f, f_prime, f_double_prime, x, tol))"
   ]
  },
  {
   "cell_type": "markdown",
   "id": "e20de5b2",
   "metadata": {},
   "source": [
    "### b)\n",
    "\n",
    "Demonstrate that your code from part (a) is indeed working by solving several problems where you know the exact solution."
   ]
  },
  {
   "cell_type": "code",
   "execution_count": 36,
   "id": "0ce4b632",
   "metadata": {},
   "outputs": [
    {
     "name": "stdout",
     "output_type": "stream",
     "text": [
      "g(x)=x^2;  0.0\n",
      "h(x)=sin(x)+x^2-2log(x)-5;  2.4953191554344802\n",
      "j(x)=x^2-2x;  2.0\n",
      "k(x)=x^3-2x^2-2;  2.359304044156858\n",
      "l(x)=x^4 - x^3 - x^2 - x;  1.8392867721339452\n",
      "m(x) = x^8 + x^7 - 8*x^6 + 9*sin(x);  2.3964655936290174e-11\n"
     ]
    }
   ],
   "source": [
    "\"\"\"\n",
    "Provide several test functions where you know the root and \n",
    "call the newtown_n2() method to test your solution.\n",
    "Print the results in a readable format.\n",
    "\"\"\" \n",
    "\n",
    "# Example #1\n",
    "g = lambda x: x ** 2\n",
    "g_prime = lambda x: 2*x\n",
    "g_double_prime = lambda x: 2\n",
    "x = 2\n",
    "tol=1e-6\n",
    "print(\"g(x)=x^2; \", newtown_n2(g, g_prime, g_double_prime, x, tol))\n",
    "\n",
    "# Example #2\n",
    "x = 3\n",
    "h = lambda x: np.sin(x) + x**2 - 2 * np.log(x) - 5\n",
    "h_prime = lambda x: 2*x + np.cos(x) - 2/x\n",
    "h_double_prime = lambda x: -np.sin(x) + 2 + 2/x**2\n",
    "tol=1e-6\n",
    "print(\"h(x)=sin(x)+x^2-2log(x)-5; \", newtown_n2(h, h_prime, h_double_prime, x, tol))\n",
    "\n",
    "# Example #3\n",
    "x = 3\n",
    "j = lambda x: x**2 - 2*x\n",
    "j_prime = lambda x: 2*x - 2\n",
    "j_double_prime = lambda x: 2\n",
    "tol=1e-6\n",
    "print(\"j(x)=x^2-2x; \", newtown_n2(j, j_prime, j_double_prime, x, tol))\n",
    "\n",
    "# Example #4\n",
    "x = 2\n",
    "k = lambda x: x**3 - 2*x**2 - 2\n",
    "k_prime = lambda x: 3*x**2 - 4*x\n",
    "k_double_prime = lambda x: 6*x - 4\n",
    "tol=1e-6\n",
    "print(\"k(x)=x^3-2x^2-2; \", newtown_n2(k, k_prime, k_double_prime, x, tol))\n",
    "\n",
    "# Example #5\n",
    "x = 2\n",
    "l = lambda x: x**4 - x**3 - x**2 - x\n",
    "l_prime = lambda x: 4*x**3 - 3*x**2 - 2*x - 1\n",
    "l_double_prime = lambda x: 12*x**2 - 6*x - 2\n",
    "tol=1e-6\n",
    "print(\"l(x)=x^4 - x^3 - x^2 - x; \", newtown_n2(l, l_prime, l_double_prime, x, tol))\n",
    "\n",
    "# Example #6\n",
    "x = 1\n",
    "m = lambda x: x**8 + x**7 - 8*x**6 + 9*np.sin(x)\n",
    "m_prime = lambda x: 8*x**7 + 7*x**6 - 48*x**5 + 9*np.cos(x)\n",
    "m_double_prime = lambda x: 56*x**6 + 42*x**5 - 240*x**4 - 9*np.sin(x)\n",
    "tol=1e-6\n",
    "print(\"m(x) = x^8 + x^7 - 8*x^6 + 9*sin(x); \", newtown_n2(m, m_prime, m_double_prime, x, tol))"
   ]
  },
  {
   "cell_type": "markdown",
   "id": "d3f01fe2",
   "metadata": {},
   "source": [
    "### c)\n",
    "Show several plots that estimates the order of the method from part. That is, create a log-log plot of the successive errors for several different equation-solving problems."
   ]
  },
  {
   "cell_type": "code",
   "execution_count": 34,
   "id": "be09b448",
   "metadata": {
    "scrolled": true
   },
   "outputs": [
    {
     "data": {
      "text/plain": [
       "[<matplotlib.lines.Line2D at 0x111f64580>]"
      ]
     },
     "execution_count": 34,
     "metadata": {},
     "output_type": "execute_result"
    },
    {
     "data": {
      "image/png": "[encoded data removed]",
      "text/plain": [
       "<Figure size 432x288 with 1 Axes>"
      ]
     },
     "metadata": {
      "needs_background": "light"
     },
     "output_type": "display_data"
    }
   ],
   "source": [
    "import matplotlib.pyplot as plt\n",
    "def newtown_n2_modified(f, f_prime, f_double_prime, x, tol):\n",
    "    \"\"\"An implementation of the 'double' Netwon-Raphson method for finding roots of a differentiable function.\n",
    "    \n",
    "    Arguments:\n",
    "        f: the lambda function for the differentiable function we want to find the roots for\n",
    "        f_prime: hand-calculated derivative of f\n",
    "        f_double_prime: hand-calculated derivative of f\n",
    "        x: initial approximation for the root\n",
    "        tol: the tolerance\n",
    "        \n",
    "    Returns:\n",
    "        An estimate for the root of the function.\n",
    "    \"\"\"\n",
    "    x = (-f_prime(x) + math.sqrt((f_prime(x))**2 -2*(f(x))*(f_double_prime(x))) + f_double_prime(x)* x) / f_double_prime(x)\n",
    "    store = []\n",
    "    while abs(f(x)) > tol:\n",
    "        x = (-f_prime(x) + math.sqrt((f_prime(x))**2 -2*(f(x))*(f_double_prime(x))) + f_double_prime(x)* x) / f_double_prime(x)\n",
    "        store.append(abs(f(x)))\n",
    "    return(store)\n",
    "\n",
    "f = lambda x: x**2 - np.cos(x) - 3*np.sin(x) - 9\n",
    "f_prime = lambda x: 2*x + np.sin(x) - 3*np.cos(x)\n",
    "f_double_prime = lambda x: 3*np.sin(x) + np.cos(x) + 2\n",
    "x = 9\n",
    "tol=1e-6\n",
    "error = newtown_n2_modified(f, f_prime, f_double_prime, x, tol)\n",
    "plt.loglog(error[:-1],error[1:]) # blue line\n",
    "\n",
    "x = 7\n",
    "h = lambda x: np.sin(x) + x**2 - 2 * np.log(x) - 5\n",
    "h_prime = lambda x: 2*x + np.cos(x) - 2/x\n",
    "h_double_prime = lambda x: -np.sin(x) + 2 + 2/x**2\n",
    "tol = tol=1e-6\n",
    "error = newtown_n2_modified(h, h_prime, h_double_prime, x, tol) \n",
    "plt.loglog(error[:-1],error[1:]) # orange line \n",
    "\n",
    "m = lambda x: (-1)*2*np.sin(x) - 5 + 3*x**2 - 2*np.cos(x) \n",
    "m_prime = lambda x: 6*x - 2*np.cos(x) + 2*np.sin(x)\n",
    "m_double_prime = lambda x: 6 + 2*np.sin(x) + 2*np.cos(x)\n",
    "x = 9\n",
    "tol=1e-6\n",
    "error = newtown_n2_modified(m, m_prime, m_double_prime, x, tol) \n",
    "plt.loglog(error[:-1],error[1:]) # green line\n",
    "\n",
    "x = 1\n",
    "m = lambda x: x**8 + x**7 - 8*x**6 + 9*np.sin(x)\n",
    "m_prime = lambda x: 8*x**7 + 7*x**6 - 48*x**5 + 9*np.cos(x)\n",
    "m_double_prime = lambda x: 56*x**6 + 42*x**5 - 240*x**4 - 9*np.sin(x)\n",
    "tol=1e-6\n",
    "error = newtown_n2_modified(m, m_prime, m_double_prime, x, tol) \n",
    "plt.loglog(error[:-1],error[1:]) # red line"
   ]
  },
  {
   "cell_type": "markdown",
   "id": "f35592d2",
   "metadata": {},
   "source": [
    "### d)\n",
    "What are the pro’s and con’s to using this new method?"
   ]
  },
  {
   "cell_type": "markdown",
   "id": "2ea42b46",
   "metadata": {},
   "source": [
    "***The pro's of using this method is that it is very efficient and accurate when finding positive roots. It takes less iterations to converge at the value within the tolerance. That said, a major con is that not all functions can be evaluated with this method. Functions are limited to those that are twice differentiable. Moreover, the guess value (i.e. \"x\") needs to be within a certain domain, or else the function will throw an error.***"
   ]
  },
  {
   "cell_type": "markdown",
   "id": "38836f99",
   "metadata": {},
   "source": [
    "## Exercise 2.61\n",
    "\n",
    "An object falling vertically through the air is subject to friction due to air resistance as well as gravity. The function describing the position of such a function is\n",
    "$$s(t) = s_0 - \\frac{mg}{k}t + \\frac{m^2g}{k^2}\\left(1-e^{\\frac{-kt}{m}}\\right)$$\n",
    "where $m$ is the mass measured in kg, $g$ is gravity measured in meters per second per second, $s_0$ is the initial position measured in meters, and $k$ is the coefficient of air resistance."
   ]
  },
  {
   "cell_type": "markdown",
   "id": "e0aa0289",
   "metadata": {},
   "source": [
    "### a)\n",
    "What are the units of the parameter $k$?"
   ]
  },
  {
   "cell_type": "markdown",
   "id": "d12ba358",
   "metadata": {},
   "source": [
    "***The units for k are : kg/s.***"
   ]
  },
  {
   "cell_type": "markdown",
   "id": "7fd33fbd",
   "metadata": {},
   "source": [
    "### b)\n",
    "If $m = 1$ kg, $g = 9.8 m/s^2$, $k = 0.1$ and $s_0 = 100$m, how long will it take for the object to hit the ground? Find your answer to within 0.01 seconds."
   ]
  },
  {
   "cell_type": "markdown",
   "id": "f867ed9f",
   "metadata": {},
   "source": [
    "***It will take the object approximately 4.88 seconds to hit the ground.***"
   ]
  },
  {
   "cell_type": "code",
   "execution_count": 37,
   "id": "1def4419",
   "metadata": {},
   "outputs": [
    {
     "name": "stdout",
     "output_type": "stream",
     "text": [
      "m(x) = x^8 + x^7 - 8*x^6 + 9*sin(x);  1.0491850546952968\n"
     ]
    }
   ],
   "source": [
    "def newtown_n2_modified_v2(f, f_prime, f_double_prime, x, tol):\n",
    "    \"\"\"An implementation of the 'double' Netwon-Raphson method for finding roots of a differentiable function.\n",
    "    \n",
    "    Arguments:\n",
    "        f: the lambda function for the differentiable function we want to find the roots for\n",
    "        f_prime: hand-calculated derivative of f\n",
    "        f_double_prime: hand-calculated derivative of f\n",
    "        x: initial approximation for the root\n",
    "        tol: the tolerance\n",
    "        \n",
    "    Returns:\n",
    "        An estimate for the root of the function.\n",
    "    \"\"\"\n",
    "    x = (-f_prime(x) - math.sqrt((f_prime(x))**2 -2*(f(x))*(f_double_prime(x))) + f_double_prime(x)* x) / f_double_prime(x)\n",
    "    while abs(f(x)) > tol:\n",
    "        x = (-f_prime(x) - math.sqrt((f_prime(x))**2 -2*(f(x))*(f_double_prime(x))) + f_double_prime(x)* x) / f_double_prime(x)\n",
    "    return(x)\n",
    "\n",
    "f = lambda x: 100 - (1*9.8)/0.1 * x + (1**2*9.8)/0.1**2 * (1-np.exp((-0.1*x)/1))\n",
    "f_prime = lambda x: 98*np.exp(-x/10) - 98\n",
    "f_double_prime = lambda x: -(49*np.exp(-x/10))/5\n",
    "x = 5\n",
    "tol=1e-6\n",
    "\n",
    "newtown_n2_modified_v2(f, f_prime, f_double_prime, x, tol)"
   ]
  },
  {
   "cell_type": "markdown",
   "id": "cc32ab81",
   "metadata": {},
   "source": [
    "### c)\n",
    "The value of $k$ depends on the aerodynamics of the object and might be challenging to measure. We want to perform a sensitivity analysis on your answer to part (b) subject to small measurement errors in $k$. If the value of $k$ is only known to within 10% then what are your estimates of when the object will hit the ground?\n",
    "\n"
   ]
  },
  {
   "cell_type": "markdown",
   "id": "b6c18575",
   "metadata": {},
   "source": [
    "***The object may reach the ground between 4.85 to 4.92 seconds.***"
   ]
  },
  {
   "cell_type": "code",
   "execution_count": 10,
   "id": "668ccc0a",
   "metadata": {},
   "outputs": [
    {
     "name": "stdout",
     "output_type": "stream",
     "text": [
      "4.924783822156885\n",
      "4.8455553606125505\n"
     ]
    }
   ],
   "source": [
    "f = lambda x: 100 - (1*9.8)/0.11 * x + (1**2*9.8)/0.11**2 * (1-np.exp((-0.11*x)/1))\n",
    "f_prime = lambda x: 98*np.exp(-x/10) - 98\n",
    "f_double_prime = lambda x: -(49*np.exp(-x/10))/5\n",
    "x = 5\n",
    "tol=1e-6\n",
    "\n",
    "print(newtown_n2_modified_v2(f, f_prime, f_double_prime, x, tol))\n",
    "\n",
    "f = lambda x: 100 - (1*9.8)/0.09 * x + (1**2*9.8)/0.09**2 * (1-np.exp((-0.09*x)/1))\n",
    "f_prime = lambda x: 98*np.exp(-x/10) - 98\n",
    "f_double_prime = lambda x: -(49*np.exp(-x/10))/5\n",
    "x = 5\n",
    "tol=1e-6\n",
    "\n",
    "print(newtown_n2_modified_v2(f, f_prime, f_double_prime, x, tol))"
   ]
  },
  {
   "cell_type": "markdown",
   "id": "b8c2c763",
   "metadata": {},
   "source": [
    "## Exercise 2.65\n",
    "\n"
   ]
  },
  {
   "cell_type": "markdown",
   "id": "9afcbf3f",
   "metadata": {},
   "source": [
    "The `scipy` library in Python has many built-in numerical analysis routines much like the ones that we have built in this chapter. Of particular interest to the task of root finding is the `fsolve` command in the `scipy.optimize` library.\n",
    "\n",
    "Go to the [help documentation](https://docs.scipy.org/doc/scipy/reference/generated/scipy.optimize.fsolve.html) for `scipy.optimize.fsolve` and make yourself familiar with how to use the tool."
   ]
  },
  {
   "cell_type": "markdown",
   "id": "3464e6de",
   "metadata": {},
   "source": [
    "### a)\n",
    "First solve the equation $xsin(x) - ln(x) = 0$ for $x$ starting at $x_0 = 3$. Show work here if necessary."
   ]
  },
  {
   "cell_type": "code",
   "execution_count": 11,
   "id": "8924b120",
   "metadata": {},
   "outputs": [
    {
     "name": "stdout",
     "output_type": "stream",
     "text": [
      "2.7649217507755646\n"
     ]
    }
   ],
   "source": [
    "# Estimate of x at x0 = 3. Solved using the newton_n2 (modified) method. \n",
    "f = lambda x: x*np.sin(x) - np.log(x)\n",
    "f_prime = lambda x: x*np.cos(x) + np.sin(x) - 1/x\n",
    "f_double_prime = lambda x: -x*np.sin(x) + 2*np.cos(x) + x**(-2)\n",
    "x = 3\n",
    "tol = 1e-6\n",
    "\n",
    "print(newtown_n2_modified_v2(f, f_prime, f_double_prime, x, tol))"
   ]
  },
  {
   "cell_type": "markdown",
   "id": "5736a65d",
   "metadata": {},
   "source": [
    "   #### (i)\n",
    "Make a plot of the function on the domain $[0, 5]$ so you can eyeball the root before using the tool."
   ]
  },
  {
   "cell_type": "code",
   "execution_count": 12,
   "id": "7fa6ba8b",
   "metadata": {},
   "outputs": [
    {
     "name": "stderr",
     "output_type": "stream",
     "text": [
      "/var/folders/sx/gw6n5mnj28x21kcmksnp_p240000gn/T/ipykernel_729/641972817.py:2: RuntimeWarning: divide by zero encountered in log\n",
      "  y = x*np.sin(x) - np.log(x)\n"
     ]
    },
    {
     "data": {
      "text/plain": [
       "[<matplotlib.lines.Line2D at 0x11ca16f20>]"
      ]
     },
     "execution_count": 12,
     "metadata": {},
     "output_type": "execute_result"
    },
    {
     "data": {
      "image/png": "[encoded data removed]",
      "text/plain": [
       "<Figure size 432x288 with 1 Axes>"
      ]
     },
     "metadata": {
      "needs_background": "light"
     },
     "output_type": "display_data"
    }
   ],
   "source": [
    "x = np.linspace(0,5, 100)\n",
    "y = x*np.sin(x) - np.log(x)\n",
    "plt.plot(x, y, linewidth = 2.0)"
   ]
  },
  {
   "cell_type": "markdown",
   "id": "77f80b51",
   "metadata": {},
   "source": [
    "#### ii)\n",
    "Use the `scipy.optimize.fsolve()` command to approximate the root."
   ]
  },
  {
   "cell_type": "code",
   "execution_count": 13,
   "id": "b798ffa7",
   "metadata": {},
   "outputs": [
    {
     "data": {
      "text/plain": [
       "2.7649217502367387"
      ]
     },
     "execution_count": 13,
     "metadata": {},
     "output_type": "execute_result"
    }
   ],
   "source": [
    "from scipy.optimize import fsolve\n",
    "f = lambda x: x*np.sin(x) - np.log(x)\n",
    "\n",
    "fsolve(f, 3)[0]"
   ]
  },
  {
   "cell_type": "markdown",
   "id": "0bec4f92",
   "metadata": {},
   "source": [
    "#### iii)\n",
    "Fully explain each of the outputs from the `scipy.optimize.fsolve()` command. You should use the `fsolve()` command with `full_output=1` so you can see all of the solver diagnostics."
   ]
  },
  {
   "cell_type": "markdown",
   "id": "afa47727",
   "metadata": {},
   "source": [
    "***EXPLAIN `fsolve()`'s OUTPUT HERE: The first element (i.e. array([2.76492175])) is the output value of the fsolve function that approximates the value of x to satisfy the input function. Next there is a dictionary type element that contains all the solver diagnostics. The first of the metrics is \"nfev\", which is the number of function calls it took to output the value within a certain degree of accuracy. The next metric is \"fjac\", which is column-wise orthogonal matrix created through QR factorizatioin of the final approximate Jacobian matrix. The next metric is \"r\", which is the upper triangular matrix created by QR factorization of the same matrix. The next metric is \"qtf\", which is the vector of \"fvec\" multiplied by the transpose of the orthogonal matrix (q). The final metric is \"fvec\", which is the function evaluated at the output (i.e. the output's error from the actual value). After the dictionary of optional return values, is the integer flag, indicating whether or not a solution was found (i.e. since the value return was 1, this confirms that fsolve() found a solution). The output concludes with a message that confirms that the solution converged and was found.***"
   ]
  },
  {
   "cell_type": "code",
   "execution_count": 14,
   "id": "6073ae51",
   "metadata": {},
   "outputs": [
    {
     "data": {
      "text/plain": [
       "(array([2.76492175]),\n",
       " {'nfev': 8,\n",
       "  'fjac': array([[-1.]]),\n",
       "  'r': array([2.56493214]),\n",
       "  'qtf': array([1.10844667e-12]),\n",
       "  'fvec': array([-2.22044605e-16])},\n",
       " 1,\n",
       " 'The solution converged.')"
      ]
     },
     "execution_count": 14,
     "metadata": {},
     "output_type": "execute_result"
    }
   ],
   "source": [
    "f = lambda x: x*np.sin(x) - np.log(x)\n",
    "fsolve(f, 3, full_output = 1)"
   ]
  },
  {
   "cell_type": "markdown",
   "id": "34e450e2",
   "metadata": {},
   "source": [
    "### b)\n",
    "Demonstrate how to use `fsolve()` using any non-trivial nonlinear equation solving problem.   \n",
    "Demonstrate what some of the options of `fsolve()` do."
   ]
  },
  {
   "cell_type": "code",
   "execution_count": 15,
   "id": "8cf169c9",
   "metadata": {},
   "outputs": [
    {
     "name": "stdout",
     "output_type": "stream",
     "text": [
      "[1.41421356]\n",
      "[1.41421356]\n",
      "[1.41421356]\n",
      "[1.41421356]\n",
      "[1.41421356]\n"
     ]
    }
   ],
   "source": [
    "f = lambda x: x**2 - 2\n",
    "f_prime = lambda x: 2*x\n",
    "print(fsolve(f, 3))\n",
    "print(fsolve(f, 3, fprime = f_prime))\n",
    "print(fsolve(f, 3, col_deriv = 1))\n",
    "print(fsolve(f, 3, xtol = 1*10**(-6)))\n",
    "print(fsolve(f, 3, maxfev = 100))"
   ]
  },
  {
   "cell_type": "markdown",
   "id": "8e8a6adc",
   "metadata": {},
   "source": [
    "### c)\n",
    "The `scipy.optimize.fsolve()` command can also solve systems of equations (something we have not built algorithms for in this chapter).   \n",
    "Consider the system of equations $F(x)$:\n",
    "$$x_0\\cos(x_1) = 4 \\\\ x_0x_1 - x_1 = 5$$\n",
    "The following Python code allows you to use `scipy.optimize.fsolve()` to solve this system of nonlinear equations in much the same way as we did in part (a) of this problem. However, be aware that we need to think of `x` as a vector of $x$-values. Go through the code below and **be sure that you understand every line of code**."
   ]
  },
  {
   "cell_type": "code",
   "execution_count": 16,
   "id": "41c5515a",
   "metadata": {},
   "outputs": [
    {
     "data": {
      "text/plain": [
       "(array([6.50409711, 0.90841421]),\n",
       " {'nfev': 9,\n",
       "  'fjac': array([[-0.55345957, -0.83287605],\n",
       "         [ 0.83287605, -0.55345957]]),\n",
       "  'r': array([-1.10094528, -1.74086798, -7.30631345]),\n",
       "  'qtf': array([-4.69149498e-10, -1.12803701e-09]),\n",
       "  'fvec': array([ 3.73034936e-14, -5.41788836e-14])},\n",
       " 1,\n",
       " 'The solution converged.')"
      ]
     },
     "execution_count": 16,
     "metadata": {},
     "output_type": "execute_result"
    }
   ],
   "source": [
    "import numpy as np\n",
    "from scipy.optimize import fsolve\n",
    "\n",
    "'''\n",
    "def F(x):\n",
    "  Output = [ x[0]*np.cos(x[1])-4 ]\n",
    "  Output.append( x[0]*x[1] - x[1] - 5 )\n",
    "  return Output\n",
    "'''\n",
    "\n",
    "# Or alternately we could define the system as a lambda function \n",
    "F = lambda x: [ x[0]*np.cos(x[1])-4 , x[0]*x[1]-x[1]-5 ]\n",
    "\n",
    "fsolve(F,[6,1],full_output=1) \n",
    "# Note: full_output gives the solver diagnostics"
   ]
  },
  {
   "cell_type": "markdown",
   "id": "763f8a91",
   "metadata": {},
   "source": [
    "### d)\n",
    "Solve the system of nonlinear equations below using `.fsolve()`.  \n",
    "System of equations $G(x)$:\n",
    "$$x^2 - xy^2 = 2 \\\\ xy = 2$$"
   ]
  },
  {
   "cell_type": "code",
   "execution_count": 94,
   "id": "baf883e6",
   "metadata": {},
   "outputs": [
    {
     "data": {
      "text/plain": [
       "(array([2., 1.]),\n",
       " {'nfev': 4, 'fjac': array([[-0.9486833 , -0.31622776],\n",
       "         [ 0.31622776, -0.9486833 ]]), 'r': array([-3.16227769,  3.1622777 , -3.16227766]), 'qtf': array([0., 0.]), 'fvec': array([0., 0.])},\n",
       " 1,\n",
       " 'The solution converged.')"
      ]
     },
     "execution_count": 94,
     "metadata": {},
     "output_type": "execute_result"
    }
   ],
   "source": [
    "F = lambda x: [x[0]**2 - x[0]*x[1]**2 - 2, x[0]*x[1] - 2]\n",
    "fsolve(F, [2, 1] , full_output = 1)"
   ]
  }
 ],
 "metadata": {
  "kernelspec": {
   "display_name": "Python 3 (ipykernel)",
   "language": "python",
   "name": "python3"
  },
  "language_info": {
   "codemirror_mode": {
    "name": "ipython",
    "version": 3
   },
   "file_extension": ".py",
   "mimetype": "text/x-python",
   "name": "python",
   "nbconvert_exporter": "python",
   "pygments_lexer": "ipython3",
   "version": "3.10.0"
  }
 },
 "nbformat": 4,
 "nbformat_minor": 5
}
