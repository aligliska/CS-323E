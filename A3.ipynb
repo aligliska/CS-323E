{
 "cells": [
  {
   "cell_type": "markdown",
   "metadata": {},
   "source": [
    "# Assignment 3\n",
    "\n",
    "In this assignment, you'll be implementing different tools and numerical methods to help solve calculus-related problems.\n",
    "\n",
    "Names: Alice Gee, Mohammad Aga\n",
    "\n",
    "eid: ag67642, mba929"
   ]
  },
  {
   "cell_type": "markdown",
   "metadata": {},
   "source": [
    "## Exercise 3.102\n",
    "\n",
    "$$\\int_{-2}^2 e^{-x^2/2} dx \\quad \\text{and} \\quad \\int_0^1 \\cos(x^2) dx.$$\n",
    "\n",
    "Neither of these integrals have closed-form solutions so a numerical method is necessary. Create a loglog plot that shows the errors for the integrals with different values of $h$ (log of $h$ on the $x$-axis and log of the absolute error on the $y$-axis). Write a complete interpretation of the loglog plot. To get the exact answer for these plots use Python’s `scipy.integrate.quad` command. (What we’re really doing here is comparing our algorithms to Python’s `scipy.integrate.quad()` algorithm).\n"
   ]
  },
  {
   "cell_type": "code",
   "execution_count": 1,
   "metadata": {},
   "outputs": [
    {
     "data": {
      "text/plain": [
       "[<matplotlib.lines.Line2D at 0x11acd7af0>]"
      ]
     },
     "execution_count": 1,
     "metadata": {},
     "output_type": "execute_result"
    },
    {
     "data": {
      "image/png": "[encoded data removed]",
      "text/plain": [
       "<Figure size 432x288 with 1 Axes>"
      ]
     },
     "metadata": {
      "needs_background": "light"
     },
     "output_type": "display_data"
    }
   ],
   "source": [
    "import matplotlib.pyplot as plt\n",
    "import numpy as np\n",
    "import scipy.integrate as sp\n",
    "\n",
    "# using a trapezoidal method \n",
    "def integral(f, a, b, n): \n",
    "    store = 0\n",
    "    h = (b-a)/n\n",
    "    # divide the interval into n equal parts\n",
    "    x = np.linspace (a, b, n+1)\n",
    "    \n",
    "    for j in range(0, len(x)-1):\n",
    "        store += ((f(x[j+1]) + f(x[j])) / 2) * h\n",
    "    \n",
    "    return(store)\n",
    "\n",
    "def n_loop(f, a, b):\n",
    "    store = []\n",
    "    # n is the number of intervals \n",
    "    for n in range(1, 350):\n",
    "        store.append(integral(f, a, b, n))\n",
    "    return(store)\n",
    "    \n",
    "f = lambda x: np.exp(-x**2/2)\n",
    "a = -2\n",
    "b = 2\n",
    "\n",
    "num_n = [x for x in range(1, 350)]\n",
    "approx = n_loop(f, a , b)\n",
    "actual = sp.quad(f, a, b)[0]\n",
    "abs_errors = []\n",
    "\n",
    "for i in range(len(approx)):\n",
    "    abs_errors.append(abs(approx[i] - actual))\n",
    "\n",
    "plt.loglog(num_n, abs_errors)"
   ]
  },
  {
   "cell_type": "code",
   "execution_count": 2,
   "metadata": {},
   "outputs": [
    {
     "data": {
      "text/plain": [
       "[<matplotlib.lines.Line2D at 0x11b083e80>]"
      ]
     },
     "execution_count": 2,
     "metadata": {},
     "output_type": "execute_result"
    },
    {
     "data": {
      "image/png": "[encoded data removed]",
      "text/plain": [
       "<Figure size 432x288 with 1 Axes>"
      ]
     },
     "metadata": {
      "needs_background": "light"
     },
     "output_type": "display_data"
    }
   ],
   "source": [
    "f = lambda x: np.cos(x**2)\n",
    "a = 0\n",
    "b = 1\n",
    "\n",
    "num_n = [x for x in range(1, 350)]\n",
    "approx = n_loop(f, a , b)\n",
    "actual = sp.quad(f, a, b)[0]\n",
    "abs_errors = []\n",
    "\n",
    "for i in range(len(approx)):\n",
    "    abs_errors.append(abs(approx[i] - actual))\n",
    "\n",
    "plt.loglog(num_n, abs_errors)"
   ]
  },
  {
   "cell_type": "markdown",
   "metadata": {},
   "source": [
    "***In both plots, we can see a negative relationship between the number of intervals and the absolute error. As we increased the number of intervals to take during the integral function (i.e. taking smaller slivers of the function at a time to integrate), the absolute error became smaller. This means that taking a larger number of intervals makes the integral more accurate. ***"
   ]
  },
  {
   "cell_type": "markdown",
   "metadata": {},
   "source": [
    "## Excercise 3.104\n",
    "\n",
    "Numerically integrate each of the functions over the interval $[-1, 2]$ with an appropriate technique and verify mathematically that your numerical integral is correct to 10 decimal places. Then provide a plot of the function along with its numerical first derivative.\n",
    "\n",
    "\n",
    "* $f(x) = \\frac{x}{1+x^4}$\n",
    "\n",
    "* $g(x) = (x-1)^3 (x-2)^2$\n",
    "\n",
    "* $h(x) = \\sin\\left(x^2\\right)$"
   ]
  },
  {
   "cell_type": "code",
   "execution_count": 3,
   "metadata": {},
   "outputs": [
    {
     "name": "stdout",
     "output_type": "stream",
     "text": [
      "0.2702097501355448\n",
      "0.2702097501352914\n",
      "-27.450000000116084\n",
      "-27.450000000000003\n",
      "1.1150447910659522\n",
      "1.115044791067137\n"
     ]
    }
   ],
   "source": [
    "\"\"\"\n",
    "It is recommended that you have a single integrate function that can take\n",
    "various arguments that you can use for all of the functions. This function\n",
    "should return the values of the integral over the range [a, b]. See below\n",
    "for an example.\n",
    "\n",
    "def integrate(f, a, b, steps):\n",
    "    # your algorithm here\n",
    "    return [] # a list of the integrated values over [a, b]\n",
    "\n",
    "You can then define your functions using lambdas and call the integrate()\n",
    "method as such: \n",
    "\n",
    "f = lambda x: x ** 2\n",
    "a, b = -1, 2\n",
    "f_int = integrate(f, a, b, 100)\n",
    "...\n",
    "\"\"\"\n",
    "\n",
    "f = lambda x: x / (1 + x**4)\n",
    "g = lambda x: (x - 1)**3 * (x-2)**2\n",
    "m = lambda x: np.sin(x**2)\n",
    "a = -1\n",
    "b = 2\n",
    "n = 1000000\n",
    "\n",
    "def integral(f, a, b, n): \n",
    "    store = 0\n",
    "    h = (b-a)/n\n",
    "    # divide the interval into n equal parts\n",
    "    x = np.linspace (a, b, n+1)\n",
    "    \n",
    "    for j in range(0, len(x)-1):\n",
    "        store += ((f(x[j+1]) + f(x[j])) / 2) * h\n",
    "    \n",
    "    return(store)\n",
    "\n",
    "print(integral(f, a, b, n))\n",
    "print(sp.quad(f, a, b)[0])\n",
    "print(integral(g, a, b, n))\n",
    "print(sp.quad(g, a, b)[0])\n",
    "print(integral(m, a, b, n))\n",
    "print(sp.quad(m, a, b)[0])"
   ]
  },
  {
   "cell_type": "code",
   "execution_count": 96,
   "metadata": {},
   "outputs": [
    {
     "data": {
      "image/png": "[encoded data removed]",
      "text/plain": [
       "<Figure size 432x288 with 1 Axes>"
      ]
     },
     "metadata": {
      "needs_background": "light"
     },
     "output_type": "display_data"
    }
   ],
   "source": [
    "import numpy as np\n",
    "import matplotlib.pyplot as plt\n",
    "\n",
    "def first_deriv (f, a, b, n):\n",
    "  # divide the interval into n equal parts\n",
    "    x = np.linspace (a, b, n + 1)\n",
    "\n",
    "  # the incremental value is\n",
    "    h = x[1] - x[0]\n",
    "\n",
    "  # store the derivatives\n",
    "    df = []\n",
    "\n",
    "  # use centered difference f'(x) = (f(x + h) - f(x - h)) / (2 * h)\n",
    "  # set up the loop correctly\n",
    "    for j in np.arange(1, len(x)-1): # evenly spaced intervals  \n",
    "        df.append( (f( x[j + 1] ) - f( x[j - 1] )) / (2*h) )\n",
    "    return df\n",
    "\n",
    "f = lambda x: x / (1 + x**4)\n",
    "a = -1\n",
    "b = 2\n",
    " \n",
    "# change this parameter to see how close you can get to the exact solution\n",
    "n = 100\n",
    "\n",
    "# get the first derivative numerically\n",
    "x = np.linspace (a, b, n - 1)\n",
    "df_f = first_deriv (f, a, b, n)\n",
    "\n",
    "plt.plot (x, f(x), color = 'red', label = \"f(x)\")\n",
    "plt.plot (x, df_f, color = 'blue', label = \"f'(x)\")\n",
    "plt.grid()\n",
    "plt.legend([\"f(x)\", \"f'(x)\"])\n",
    "plt.legend()\n",
    "plt.show()"
   ]
  },
  {
   "cell_type": "code",
   "execution_count": 97,
   "metadata": {},
   "outputs": [
    {
     "data": {
      "image/png": "[encoded data removed]",
      "text/plain": [
       "<Figure size 432x288 with 1 Axes>"
      ]
     },
     "metadata": {
      "needs_background": "light"
     },
     "output_type": "display_data"
    }
   ],
   "source": [
    "g = lambda x: (x - 1)**3 * (x-2)**2\n",
    "a = -1\n",
    "b = 2\n",
    " \n",
    "# change this parameter to see how close you can get to the exact solution\n",
    "n = 100\n",
    "\n",
    "# get the first derivative numerically\n",
    "x = np.linspace (a, b, n - 1)\n",
    "df_g = first_deriv (g, a, b, n)\n",
    "\n",
    "plt.plot (x, g(x), color = 'red', label = \"g(x)\")\n",
    "plt.plot (x, df_g, color = 'blue', label = \"g'(x)\")\n",
    "plt.grid()\n",
    "plt.legend([\"g(x)\",\"g'(x)\"])\n",
    "plt.legend()\n",
    "plt.show()"
   ]
  },
  {
   "cell_type": "code",
   "execution_count": 98,
   "metadata": {},
   "outputs": [
    {
     "data": {
      "image/png": "[encoded data removed]",
      "text/plain": [
       "<Figure size 432x288 with 1 Axes>"
      ]
     },
     "metadata": {
      "needs_background": "light"
     },
     "output_type": "display_data"
    }
   ],
   "source": [
    "import numpy as np\n",
    "m = lambda x: np.sin(x**2)\n",
    "a = -1\n",
    "b = 2\n",
    " \n",
    "# change this parameter to see how close you can get to the exact solution\n",
    "n = 100\n",
    "\n",
    "# get the first derivative numerically\n",
    "x = np.linspace (a, b, n - 1)\n",
    "df_m = first_deriv (m, a, b, n)\n",
    "\n",
    "plt.plot (x, m(x), color = 'red', label = \"m(x)\")\n",
    "plt.plot (x, df_m, color = 'blue', label = \"m'(x)\")\n",
    "plt.grid()\n",
    "plt.legend([\"m(x)\",\"m'(x)\"])\n",
    "plt.legend()\n",
    "plt.show()"
   ]
  },
  {
   "cell_type": "markdown",
   "metadata": {},
   "source": [
    "## Exercise 3.105\n",
    "\n",
    "A bicyclist completes a race course in 90 seconds. The speed of the biker at each 10-second interval is determined using a radar gun and is given in the table in feet per second. How long is the race course?\n",
    "\n",
    "<table>\n",
    "<thead>\n",
    "<tr class=\"header\">\n",
    "<th>Time (sec)</th>\n",
    "<th>0</th>\n",
    "<th>10</th>\n",
    "<th>20</th>\n",
    "<th>30</th>\n",
    "<th>40</th>\n",
    "<th>50</th>\n",
    "<th>60</th>\n",
    "<th>70</th>\n",
    "<th>80</th>\n",
    "<th>90</th>\n",
    "</tr>\n",
    "</thead>\n",
    "<tbody>\n",
    "<tr class=\"odd\">\n",
    "<td>Speed (ft/sec)</td>\n",
    "<td>34</td>\n",
    "<td>32</td>\n",
    "<td>29</td>\n",
    "<td>33</td>\n",
    "<td>37</td>\n",
    "<td>40</td>\n",
    "<td>41</td>\n",
    "<td>36</td>\n",
    "<td>38</td>\n",
    "<td>39</td>\n",
    "</tr>\n",
    "</tbody>\n",
    "</table>\n",
    "\n",
    "You can download the data with the following code."
   ]
  },
  {
   "cell_type": "code",
   "execution_count": 99,
   "metadata": {},
   "outputs": [
    {
     "name": "stdout",
     "output_type": "stream",
     "text": [
      "[[ 0 34]\n",
      " [10 32]\n",
      " [20 29]\n",
      " [30 33]\n",
      " [40 37]\n",
      " [50 40]\n",
      " [60 41]\n",
      " [70 36]\n",
      " [80 38]\n",
      " [90 39]]\n"
     ]
    }
   ],
   "source": [
    "import numpy as np\n",
    "import pandas as pd\n",
    "data = np.array( pd.read_csv(\"https://raw.githubusercontent.com/NumericalMethodsSullivan/NumericalMethodsSullivan.github.io/master/data/Exercise3_bikespeed.csv\") ) # the data is stored here\n",
    "print(data)"
   ]
  },
  {
   "cell_type": "code",
   "execution_count": 100,
   "metadata": {},
   "outputs": [
    {
     "name": "stdout",
     "output_type": "stream",
     "text": [
      "3570.0\n"
     ]
    }
   ],
   "source": [
    "def race_integral(data):\n",
    "    h = 10\n",
    "    odd = 0\n",
    "    for i in range(0, len(data), 2):\n",
    "        odd += data[i][1]\n",
    "    even = 0\n",
    "    for j in range(1, len(data)-1, 2):\n",
    "        even += data[j][1]\n",
    "    \n",
    "    output = h/3 * (data[0][1] + 4*(odd) + 2*(even) + data[-1][1])\n",
    "    return(output)\n",
    "\n",
    "print(race_integral(data))"
   ]
  },
  {
   "cell_type": "markdown",
   "metadata": {},
   "source": [
    "***The course is 3570 feet long.***"
   ]
  },
  {
   "cell_type": "markdown",
   "metadata": {},
   "source": [
    "## Exercise 3.106\n",
    "\n",
    "For each of the following functions write code to numerically approximate the local maximum or minimum that is closest to $x = 0$. You may want to start with a plot of the function just to get a feel for where the local extreme value(s) might be.\n",
    "\n",
    "* $\\displaystyle f(x) = \\frac{x}{1+x^4} + \\sin(x)$\n",
    "\n",
    "* $\\displaystyle g(x) =  \\left(x-1\\right)^3\\cdot\\left(x-2\\right)^2+e^{-0.5\\cdot x}$"
   ]
  },
  {
   "cell_type": "code",
   "execution_count": 101,
   "metadata": {},
   "outputs": [
    {
     "data": {
      "text/plain": [
       "[<matplotlib.lines.Line2D at 0x137e6f910>]"
      ]
     },
     "execution_count": 101,
     "metadata": {},
     "output_type": "execute_result"
    },
    {
     "data": {
      "image/png": "[encoded data removed]",
      "text/plain": [
       "<Figure size 432x288 with 1 Axes>"
      ]
     },
     "metadata": {
      "needs_background": "light"
     },
     "output_type": "display_data"
    }
   ],
   "source": [
    "import numpy as np\n",
    "import matplotlib.pyplot as plt\n",
    "\n",
    "x = np.linspace(-1, 10, 100)\n",
    "f = (x / (1+ x**4)) + np.sin(x)\n",
    "plt.plot(x, f)"
   ]
  },
  {
   "cell_type": "code",
   "execution_count": 105,
   "metadata": {},
   "outputs": [
    {
     "name": "stdout",
     "output_type": "stream",
     "text": [
      "1.023086\n"
     ]
    }
   ],
   "source": [
    "f = lambda x: x / (1+ x**4) + np.sin(x)\n",
    "tol = 1e-5\n",
    "\n",
    "def first_deriv (f, a, b, n):\n",
    "  # divide the interval into n equal parts\n",
    "    x = np.linspace (a, b, n + 1)\n",
    "\n",
    "  # the incremental value is\n",
    "    h = x[1] - x[0]\n",
    "    \n",
    "  # use centered difference f'(x) = (f(x + h) - f(x - h)) / (2 * h)\n",
    "  # set up the loop correctly\n",
    "    f_prime = (f(x[0] + h) - f(x[0] - h)) / (2*h)\n",
    "    store_i = 0\n",
    "    for i in range(len(x)):\n",
    "        f_prime = (f(x[i] + h) - f(x[i] - h)) / (2*h)\n",
    "        if abs(f_prime) <= tol:\n",
    "            return(x[i])\n",
    "        i += 1\n",
    "\n",
    "output = first_deriv(f, 0, 2, 1000000)\n",
    "print(output)"
   ]
  },
  {
   "cell_type": "code",
   "execution_count": 106,
   "metadata": {},
   "outputs": [
    {
     "name": "stdout",
     "output_type": "stream",
     "text": [
      "0.746346\n"
     ]
    }
   ],
   "source": [
    "g = lambda x: (x-1)**3 * (x-2)**2 + np.exp(-0.5*x)\n",
    "tol = 1e-5\n",
    "\n",
    "output = first_deriv(g, 0, 2, 1000000)\n",
    "print(output)"
   ]
  },
  {
   "cell_type": "markdown",
   "metadata": {},
   "source": [
    "Replace $x$ with the proper value.\n",
    "$f(x) = \\textit{\\textbf{YOUR ANSWER HERE}}$ \n",
    "$g(x) = \\textit{\\textbf{YOUR ANSWER HERE}}$ "
   ]
  }
 ],
 "metadata": {
  "interpreter": {
   "hash": "e7370f93d1d0cde622a1f8e1c04877d8463912d04d973331ad4851f04de6915a"
  },
  "kernelspec": {
   "display_name": "Python 3 (ipykernel)",
   "language": "python",
   "name": "python3"
  },
  "language_info": {
   "codemirror_mode": {
    "name": "ipython",
    "version": 3
   },
   "file_extension": ".py",
   "mimetype": "text/x-python",
   "name": "python",
   "nbconvert_exporter": "python",
   "pygments_lexer": "ipython3",
   "version": "3.10.0"
  }
 },
 "nbformat": 4,
 "nbformat_minor": 2
}
