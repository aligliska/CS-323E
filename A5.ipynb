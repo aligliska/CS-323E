{
 "cells": [
  {
   "cell_type": "markdown",
   "metadata": {},
   "source": [
    "# Assignment 5\n",
    "\n",
    "In this assignment, you will implement different linear algebra techniques.\n",
    "\n",
    "Alice Gee, ag67642; \n",
    "Andrew Yang, ay6764; \n",
    "Mohammad Aga, mba929"
   ]
  },
  {
   "cell_type": "markdown",
   "metadata": {},
   "source": [
    "### Preliminary Work for Solving Linear Systems\n",
    "\n",
    "You will implement the following methods to help with performing LU decomposition to solve linear systems."
   ]
  },
  {
   "cell_type": "markdown",
   "metadata": {},
   "source": [
    "### `myLU`\n",
    "\n",
    "Take a square matrix $A$ and outputs the matrices $L$ and $U$ such that $A=LU$. "
   ]
  },
  {
   "cell_type": "code",
   "execution_count": 30,
   "metadata": {},
   "outputs": [],
   "source": [
    "import numpy as np"
   ]
  },
  {
   "cell_type": "code",
   "execution_count": 31,
   "metadata": {},
   "outputs": [],
   "source": [
    "np.set_printoptions(precision=2)\n",
    "def myLU(A):\n",
    "    n = A.shape[0] # get the dimension of the matrix A\n",
    "    L = np.matrix( np.identity(n) ) # Build the identity part L\n",
    "    U = np.copy(A) # start the U matrix as a copy of A\n",
    "    for j in range(0,n-1):\n",
    "        for i in range(j+1,n):\n",
    "            # ratio of bottom value over pivot value \n",
    "            mult = U[i,j] / U[j,j]\n",
    "            U[i, j+1:n] = U[i, j+1:n] - (mult * U[j,j+1:n])\n",
    "            #print(mult * U[j,j+1:n])\n",
    "            L[i,j] = mult\n",
    "            U[i,j] = 0 # why are we doing this?\n",
    "    return L,U"
   ]
  },
  {
   "cell_type": "markdown",
   "metadata": {},
   "source": [
    "### `lsolve`\n",
    "Solve $Ly=b$ for $y$, where the matrix $L$ is assumed to be lower triangular with ones on the main diagonal."
   ]
  },
  {
   "cell_type": "code",
   "execution_count": 32,
   "metadata": {},
   "outputs": [],
   "source": [
    "def lsolve(L, b):\n",
    "    L = np.matrix(L) # make sure L is the correct data type\n",
    "    n = b.size # what does this do?\n",
    "    y = np.matrix( np.zeros( (n,1)) ) # what does this do?\n",
    "    for i in range(n):\n",
    "        # start the loop by assigning y to the value on the right\n",
    "        y[i] = b[i] \n",
    "        for j in range(i): # now adjust y \n",
    "            y[i] = y[i] - L[i,j] * y[j]\n",
    "    return(y)"
   ]
  },
  {
   "cell_type": "markdown",
   "metadata": {},
   "source": [
    "### `usolve`\n",
    "Solve $Ux=y$ using backward substitution. The matrix $U$ is assumed to be upper triangular."
   ]
  },
  {
   "cell_type": "code",
   "execution_count": 33,
   "metadata": {},
   "outputs": [],
   "source": [
    "def usolve(U, y):\n",
    "    n = y.size\n",
    "    x = np.matrix( np.zeros( (n,1)))\n",
    "    for i in range(n-1, -1, -1):     # what should we be looping over?\n",
    "        x[i] = y[i] / U[i,i]      # what should we be dividing by?\n",
    "        for j in range(i+1, n): # what should we be looping over:\n",
    "            x[i] = x[i] - U[i,j] * x[j] / U[i,i] # complete this line \n",
    "    return(x)"
   ]
  },
  {
   "cell_type": "markdown",
   "metadata": {},
   "source": [
    "### Putting it All Together to Solve Linear Systems\n",
    "\n",
    "Let $A$ be a square matrix in $\\mathbb{R}^{n \\times n}$ and let $\\vec x, \\vec b \\in \\mathbb{R}^n$. To solve the problem $A \\vec x = \\vec b$,\n",
    "1. Factor $A$ into lower and upper triangular matrices $A = LU$. (Implement `L, U = myLU(A)`)\n",
    "2. The system can now be written as $LU \\vec x = \\vec b$. Substitute $U \\vec x = \\vec y$ and solve the problem $L \\vec y = \\vec b$ with forward substitution. (Use `y = lsolve(L, b)`)\n",
    "3. Finally, solve the system $U \\vec x = \\vec y$ with backward substitution. (Use `x = usolve(U, y)`)"
   ]
  },
  {
   "cell_type": "markdown",
   "metadata": {},
   "source": [
    "## Exercise 4.36\n",
    "\n",
    "Implement the `lsolve` (Forward Substutition Algorithm, see Definition 4.5 in textbook), `usolve` (Backward Substitution Algorithm, see Definition 4.6 in textbook), and `myLU` (LU Decomposition, see Definition 4.4 in textbook) functions and test them on a linear system for which you know the answer. Then test your problem on a system that you don’t know the solution to. As a way to compare your solutions you should:\n",
    "* Find Python’s solution using `np.linalg.solve()` and compare your answer to that one using `np.linalg.norm()` to give the error between the two.\n",
    "* Time your code using the time library as follows:\n",
    "  * use the code `starttime = time.time()` before you start the main computation\n",
    "  * use the code `endtime = time.time()` after the main computation\n",
    "  * then calculate the total elapsed time with `totaltime = endtime - starttime`\n",
    "* Compare the timing of your $LU$ solve against `np.linalg.solve()` and against the RREF algorithm in the `sympy` library."
   ]
  },
  {
   "cell_type": "markdown",
   "metadata": {},
   "source": [
    "### Your Test Case HERE\n",
    "\n",
    "Place your test case in this cell, formatted using $\\LaTeX$. Example:\n",
    "\n",
    "$$\\begin{bmatrix}\n",
    "1 & 2\\\\\n",
    "2 & 1\n",
    "\\end{bmatrix} \\times \\begin{bmatrix}\n",
    "x\\\\\n",
    "y\n",
    "\\end{bmatrix} = \\begin{bmatrix}\n",
    "-3 \\\\\n",
    "15 \n",
    "\\end{bmatrix} $$"
   ]
  },
  {
   "cell_type": "code",
   "execution_count": 34,
   "metadata": {},
   "outputs": [
    {
     "name": "stdout",
     "output_type": "stream",
     "text": [
      "Time for symbolic RREF:\t\t\t 0.0006709098815917969\n",
      "Time for np.linalg.solve() solution:\t 0.000759124755859375\n",
      "Time for LU solution:\t\t\t 0.00048470497131347656\n",
      "Error between LU and np.linalg.solve(): 0.0\n"
     ]
    }
   ],
   "source": [
    "import time \n",
    "A = np.matrix([[1,2], [2,1]])\n",
    "b = np.matrix([[-3], [15]])\n",
    "\n",
    "# build a symbolic augmented matrix\n",
    "import sympy as sp\n",
    "Ab = sp.Matrix(np.c_[A,b]) \n",
    "# note that np.c_[A,b] does a column concatenation of A with b\n",
    "\n",
    "t0 = time.time()\n",
    "Abrref = Ab.rref()[0]\n",
    "t1 = time.time()\n",
    "RREFTime = t1-t0\n",
    "\n",
    "t0=time.time()\n",
    "exact = np.linalg.solve(A, b)\n",
    "t1=time.time()\n",
    "exactTime = t1-t0\n",
    "\n",
    "t0 = time.time()\n",
    "L, U = myLU(A) \n",
    "y = lsolve(L, b)\n",
    "x = usolve(U, y)\n",
    "t1 = time.time()\n",
    "LUTime = t1-t0\n",
    "\n",
    "print(\"Time for symbolic RREF:\\t\\t\\t\",RREFTime)\n",
    "print(\"Time for np.linalg.solve() solution:\\t\",exactTime)\n",
    "print(\"Time for LU solution:\\t\\t\\t\",LUTime)\n",
    "err = np.linalg.norm(x-exact)\n",
    "print(\"Error between LU and np.linalg.solve():\",err)"
   ]
  },
  {
   "cell_type": "code",
   "execution_count": 35,
   "metadata": {},
   "outputs": [
    {
     "name": "stdout",
     "output_type": "stream",
     "text": [
      "Time for symbolic RREF:\t\t\t 0.008702993392944336\n",
      "Time for np.linalg.solve() solution:\t 0.00025391578674316406\n",
      "Time for LU solution:\t\t\t 0.001590728759765625\n",
      "Error between LU and np.linalg.solve(): 0.0\n"
     ]
    }
   ],
   "source": [
    "A = np.matrix([[8, 5, -6], [-12, -9,12], [-3, -3, 5]], dtype=float)\n",
    "b = np.matrix([[-3], [15], [-8]])\n",
    "\n",
    "# build a symbolic augmented matrix\n",
    "import sympy as sp\n",
    "Ab = sp.Matrix(np.c_[A,b]) \n",
    "# note that np.c_[A,b] does a column concatenation of A with b\n",
    "\n",
    "t0 = time.time()\n",
    "Abrref = Ab.rref()[0]\n",
    "t1 = time.time()\n",
    "RREFTime = t1-t0\n",
    "\n",
    "t0=time.time()\n",
    "exact = np.linalg.solve(A, b)\n",
    "t1=time.time()\n",
    "exactTime = t1-t0\n",
    "\n",
    "t0 = time.time()\n",
    "L, U = myLU(A) \n",
    "y = lsolve(L, b)\n",
    "x = usolve(U, y)\n",
    "t1 = time.time()\n",
    "LUTime = t1-t0\n",
    "\n",
    "print(\"Time for symbolic RREF:\\t\\t\\t\",RREFTime)\n",
    "print(\"Time for np.linalg.solve() solution:\\t\",exactTime)\n",
    "print(\"Time for LU solution:\\t\\t\\t\",LUTime)\n",
    "err = np.linalg.norm(x-exact)\n",
    "print(\"Error between LU and np.linalg.solve():\",err)"
   ]
  },
  {
   "cell_type": "markdown",
   "metadata": {},
   "source": [
    "## Exercise 4.47 (QR Factorization)\n",
    "\n",
    "Refer to Section 4.5 in the book.\n",
    "The following Python function definition is partially complete. Fill in the missing pieces of code and then test your code on square matrices of many different sizes. The easiest way to check if you have an error is to find the normed difference between $A$ and $QR$ is with `np.linalg.norm(A - Q*R)`"
   ]
  },
  {
   "cell_type": "code",
   "execution_count": 36,
   "metadata": {},
   "outputs": [],
   "source": [
    "import numpy as np\n",
    "def myQR(A):\n",
    "    n = A.shape[0]\n",
    "    m = A.shape[1]\n",
    "    Q = np.matrix( np.zeros( (n,n) ) )\n",
    "    for j in range( m ): # The outer loop goes over the columns\n",
    "        # columns of A\n",
    "        q = A[:,j]\n",
    "        # The next loop is meant to do all of the projections.\n",
    "        # When do you start the inner loop and how far do you go?\n",
    "        # Hint: You don't need to enter this loop the first time \n",
    "        for i in range(j, -1, -1): \n",
    "            length_of_leg = np.sum(A[:,j].T * Q[:,i])\n",
    "            q = q - length_of_leg * Q[:,i] # This is where we do projections\n",
    "        Q[:,j] = q / np.linalg.norm(q)\n",
    "    \n",
    "    Q_t = Q.transpose()\n",
    "    R = Q_t * A\n",
    "    return Q, R"
   ]
  },
  {
   "cell_type": "code",
   "execution_count": 37,
   "metadata": {},
   "outputs": [
    {
     "name": "stdout",
     "output_type": "stream",
     "text": [
      "5.017727660498068e-16\n",
      "1.0491308602632318e-15\n",
      "3.3176911878838166e-15\n"
     ]
    }
   ],
   "source": [
    "A = np.matrix([[1,0,0], [1, 1, 0], [1, 1, 1], [1, 1, 1]])\n",
    "Q, R = myQR(A)\n",
    "print(np.linalg.norm(A - Q*R))\n",
    "B = np.matrix([[1,1,1], [1, 0, 0], [0, 0, 1], [0, 1, 1]])\n",
    "Q, R = myQR(B)\n",
    "print(np.linalg.norm(B - Q*R))\n",
    "C = np.matrix([[3,1],[4,1]])\n",
    "Q, R = myQR(C)\n",
    "print(np.linalg.norm(C - Q*R))"
   ]
  },
  {
   "cell_type": "markdown",
   "metadata": {},
   "source": [
    "## Exercise 4.52\n",
    "Fit a quadratic function to the following data using the technique outlined in Theorem 4.3 (textbook). Make a plot of the points along with your best fit curve.\n",
    "\n",
    "| x  | y      |\n",
    "|----|--------|\n",
    "| 0  | -6.8   |\n",
    "| 1  | 11.8   |\n",
    "| 2  | 50.6   |\n",
    "| 3  | 94     |\n",
    "| 4  | 224.3  |\n",
    "| 5  | 301.7  |\n",
    "| 6  | 499.2  |\n",
    "| 7  | 454.7  |\n",
    "| 8  | 578.5  |\n",
    "| 9  | 1102   |\n",
    "| 10 | 1203.2 |\n",
    "\n",
    "Code to download the data directly is given below.  "
   ]
  },
  {
   "cell_type": "code",
   "execution_count": 38,
   "metadata": {},
   "outputs": [
    {
     "name": "stderr",
     "output_type": "stream",
     "text": [
      "/var/folders/sx/gw6n5mnj28x21kcmksnp_p240000gn/T/ipykernel_6002/3859277473.py:16: DeprecationWarning: setting an array element with a sequence. This was supported in some cases where the elements are arrays with a single element. For example `np.array([1, np.array([2])], dtype=int)`. In the future this will raise the same ValueError as `np.array([1, [2]], dtype=int)`.\n",
      "  A[i] = [x[i]**2, x[i], 1]\n"
     ]
    },
    {
     "data": {
      "text/plain": [
       "[<matplotlib.lines.Line2D at 0x112b14250>]"
      ]
     },
     "execution_count": 38,
     "metadata": {},
     "output_type": "execute_result"
    },
    {
     "data": {
      "image/png": "[encoded data removed]",
      "text/plain": [
       "<Figure size 432x288 with 1 Axes>"
      ]
     },
     "metadata": {
      "needs_background": "light"
     },
     "output_type": "display_data"
    }
   ],
   "source": [
    "import numpy as np\n",
    "import pandas as pd\n",
    "import matplotlib.pyplot as plt\n",
    "\n",
    "URL1 = 'https://raw.githubusercontent.com/NumericalMethodsSullivan'\n",
    "URL2 = '/NumericalMethodsSullivan.github.io/master/data/'\n",
    "URL = URL1+URL2\n",
    "data = np.array( pd.read_csv(URL+'Exercise4_52.csv') )\n",
    "\n",
    "x = np.hsplit(data, 2)[0]\n",
    "b = np.hsplit(data, 2)[1]\n",
    "plt.scatter(x, b)\n",
    "\n",
    "A = np.matrix(np.zeros((11,3)))\n",
    "for i in range(len(x)):\n",
    "    A[i] = [x[i]**2, x[i], 1]\n",
    "A2 = A.transpose() * A\n",
    "b = A.transpose() * b\n",
    "\n",
    "L, U = myLU(A2) \n",
    "y = lsolve(L, b)\n",
    "x = usolve(U, y)\n",
    "\n",
    "a = float(x[0])\n",
    "b = float(x[1])\n",
    "c = float(x[2])\n",
    "\n",
    "x = np.linspace(0,10)\n",
    "f = a*x**2 + b*x + c\n",
    "\n",
    "plt.plot(x, f)\n",
    "\n",
    "\n",
    "# make each pair into it's own quadratic equation --> each row in a matrix, y values into b matrix "
   ]
  },
  {
   "cell_type": "markdown",
   "metadata": {},
   "source": [
    "## Exercise 4.61/4.62\n",
    "Go through [Theorem 4.5](https://numericalmethodssullivan.github.io/ch-linearalgebra.html#thm:power) carefully and describe what we need to do in each step and why we’re doing it. Then complete all of the missing pieces of the following Python function."
   ]
  },
  {
   "cell_type": "code",
   "execution_count": 39,
   "metadata": {},
   "outputs": [],
   "source": [
    "import numpy as np\n",
    "import math\n",
    "def myPower(A, tol = 1e-8):\n",
    "    n = A.shape[0]\n",
    "    x = np.matrix( np.random.randn(n,1) )\n",
    "    \n",
    "    # turn x in a unit vector so we can use the magnitude for later calculations \n",
    "    x = x / (np.sqrt(np.vdot(x,x)))\n",
    "    \n",
    "    # initialize the dominant eigenvalue, which is arbitrary since the value will change later \n",
    "    L = 1 \n",
    "    \n",
    "    # Given Ax = Lx, this checks the difference between Ax and Lx\n",
    "    diff = np.linalg.norm(A*x - float(L)*x)\n",
    "    \n",
    "    # keep track of how many steps we've taken\n",
    "    counter = 0 \n",
    "    \n",
    "    # a loop until the difference between Ax and Lx is not greater than the tolerance \n",
    "    ## when Ax ≈ Lx, breaks out of while loop and returns the dominant eigenvalue L\n",
    "    while (diff.all()) > tol and counter < 10000:\n",
    "        \n",
    "        # update the dominant eigenvector to get a new estimate that is closer to the actual eigenvalue/eigenvector\n",
    "        x1 = A * x \n",
    "        \n",
    "        # approximate the eignevalue with a dot product of the previous and current eigenvector \n",
    "        L = np.vdot(x1, x)\n",
    "        \n",
    "        # Given Ax = Lx, this checks the difference between Ax and Lx\n",
    "        diff = np.linalg.norm(A*x - float(L)*x)\n",
    "        \n",
    "        # normalize (i.e. turn into unit vector) so we can use the magnitude for later calculations \n",
    "        x = x1 / (np.sqrt(np.vdot(x1,x1))) \n",
    "        \n",
    "        # increment the counter\n",
    "        counter += 1 \n",
    "    return x, L"
   ]
  },
  {
   "cell_type": "markdown",
   "metadata": {},
   "source": [
    "Test your ```myPower()``` function on several matrices where you know the eigenstructure. Then try the ```myPower()``` function on larger random matrices. You can check that it is working using `np.linalg.eig()` (be sure to normalize the vectors in the same way so you can compare them.)"
   ]
  },
  {
   "cell_type": "code",
   "execution_count": 40,
   "metadata": {},
   "outputs": [
    {
     "name": "stdout",
     "output_type": "stream",
     "text": [
      "(matrix([[ 1.0e+00],\n",
      "        [-1.0e+00],\n",
      "        [ 2.9e-17]]), matrix([[3.]]))\n",
      "(matrix([[-1. ],\n",
      "        [-2.5]]), matrix([[9.]]))\n"
     ]
    }
   ],
   "source": [
    "# test myPower() with smaller matrix\n",
    "A = np.matrix([[8, 5, -6], [-12, -9,12], [-3, -3, 5]])\n",
    "print(myPower(A, tol = 1e-8))\n",
    "\n",
    "A = np.matrix([[4,2], [5, 7]])\n",
    "print(myPower(A, tol = 1e-8))"
   ]
  },
  {
   "cell_type": "code",
   "execution_count": 41,
   "metadata": {},
   "outputs": [
    {
     "name": "stdout",
     "output_type": "stream",
     "text": [
      "8.881784197001252e-15\n",
      "7.105427357601002e-14\n"
     ]
    }
   ],
   "source": [
    "# test myPower() with larger matrix \n",
    "A = np.matrix([[8, 5, -6, 4], [-12, -9,12, 2], [-3, -3, 5, 6], [7, 2, 8, 1]])\n",
    "estimate = float(myPower(A, tol = 1e-8)[1])\n",
    "actual = np.amax(np.linalg.eig(A)[0])\n",
    "error = abs(actual - estimate)\n",
    "print(error)\n",
    "\n",
    "A = np.matrix([[4, 5, 9, -4], [-12, -9,12, 2], [4, -3, 5, 6], [7, 5, 8, -3]])\n",
    "estimate = float(myPower(A, tol = 1e-8)[1])\n",
    "actual = np.amax(np.linalg.eig(A)[0])\n",
    "error = abs(actual - estimate)\n",
    "print(error)"
   ]
  }
 ],
 "metadata": {
  "interpreter": {
   "hash": "e7370f93d1d0cde622a1f8e1c04877d8463912d04d973331ad4851f04de6915a"
  },
  "kernelspec": {
   "display_name": "Python 3 (ipykernel)",
   "language": "python",
   "name": "python3"
  },
  "language_info": {
   "codemirror_mode": {
    "name": "ipython",
    "version": 3
   },
   "file_extension": ".py",
   "mimetype": "text/x-python",
   "name": "python",
   "nbconvert_exporter": "python",
   "pygments_lexer": "ipython3",
   "version": "3.10.0"
  }
 },
 "nbformat": 4,
 "nbformat_minor": 2
}
