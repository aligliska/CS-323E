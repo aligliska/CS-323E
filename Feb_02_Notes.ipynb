{
 "cells": [
  {
   "cell_type": "code",
   "execution_count": 33,
   "id": "e81fe16a",
   "metadata": {},
   "outputs": [
    {
     "data": {
      "text/plain": [
       "2.4953192472457886"
      ]
     },
     "execution_count": 33,
     "metadata": {},
     "output_type": "execute_result"
    }
   ],
   "source": [
    "import numpy as np\n",
    "def bisection(f):\n",
    "    accepted_diff = 1*10**(-6)\n",
    "    lower, upper = 0, 5\n",
    "    mid = (lower + upper) / 2\n",
    "    new_y = f(mid)\n",
    "    actual_diff = 0-new_y\n",
    "    while (abs(actual_diff) > accepted_diff):\n",
    "        mid = (lower + upper) / 2\n",
    "        new_y = f(mid)\n",
    "        actual_diff = 0-new_y \n",
    "        if (new_y > 0):\n",
    "            upper = mid\n",
    "        elif (new_y < 0):\n",
    "            lower = mid\n",
    "        else:\n",
    "            return mid\n",
    "    return(mid)\n",
    "\n",
    "f = lambda x: np.sin(x) + x**2 - 2 * np.log(x) - 5\n",
    "bisection(f)"
   ]
  },
  {
   "cell_type": "code",
   "execution_count": 3,
   "id": "85ce2027",
   "metadata": {},
   "outputs": [
    {
     "data": {
      "text/plain": [
       "[<matplotlib.lines.Line2D at 0x111868e80>]"
      ]
     },
     "execution_count": 3,
     "metadata": {},
     "output_type": "execute_result"
    },
    {
     "data": {
      "image/png": "[encoded data removed]",
      "text/plain": [
       "<Figure size 432x288 with 1 Axes>"
      ]
     },
     "metadata": {
      "needs_background": "light"
     },
     "output_type": "display_data"
    }
   ],
   "source": [
    "import matplotlib.pyplot as plt\n",
    "import numpy as np\n",
    "x = np.linspace(0,2, 100)\n",
    "y = x**2 - 2\n",
    "plt.plot(x, y, linewidth = 2.0)"
   ]
  },
  {
   "cell_type": "code",
   "execution_count": 35,
   "id": "7d90362f",
   "metadata": {},
   "outputs": [
    {
     "data": {
      "text/plain": [
       "(1.4142134998513232, 9)"
      ]
     },
     "execution_count": 35,
     "metadata": {},
     "output_type": "execute_result"
    }
   ],
   "source": [
    "#Write code to implement the Regula Falsi:\n",
    "# Test your code with x^2 - 2 = 0 in the interval [0, 2]\n",
    "\n",
    "def Regula_Falsi (f, a, b, tol):\n",
    "    # f Python function or lambda function\n",
    "    # a lower bound\n",
    "    # b upper bound\n",
    "    # tol is the tolerance\n",
    "    m = (f(b) - f(a)) / (b - a)\n",
    "    c = (-f(a)/m) + a\n",
    "    count = 0\n",
    "    while (abs(f(c)) > tol):\n",
    "        if (f(b)*f(c) < 0):\n",
    "            a = c\n",
    "        elif (f(a)*f(c) < 0):\n",
    "            b = c\n",
    "        elif f(c) == 0:\n",
    "            return (f(c), count)\n",
    "        count += 1 \n",
    "        m = (f(b) - f(a)) / (b - a)\n",
    "        c = (-f(a)/m) + a\n",
    " \n",
    "    return (c, count)\n",
    "\n",
    "f = lambda x: x**2 - 2\n",
    "Regula_Falsi (f, a = 0, b = 2, tol = 1*10**(-6))"
   ]
  },
  {
   "cell_type": "code",
   "execution_count": 6,
   "id": "df2dca73",
   "metadata": {},
   "outputs": [
    {
     "data": {
      "text/plain": [
       "(1.4142135623746899, 4)"
      ]
     },
     "execution_count": 6,
     "metadata": {},
     "output_type": "execute_result"
    }
   ],
   "source": [
    "#Write code to implement the Newton-Raphson method.\n",
    "import sympy as sym\n",
    "\n",
    "def newton (f, f_prime, x, tol):\n",
    "    # f is a differentiable function\n",
    "    # f_prime is the derivative of f (done by hand)\n",
    "    # x is initial approximation of the root\n",
    "    # tol is the tolerance\n",
    "    \n",
    "    count = 0\n",
    "    while (abs(f(x)) > tol):\n",
    "        x = x - (f(x)/f_prime(x))\n",
    "        count += 1\n",
    "    return (float(x), count)\n",
    "\n",
    "    \n",
    "f = lambda x: x**2 - 2\n",
    "x = sym.Symbol(\"x\")\n",
    "f_prime = lambda x: 2*x\n",
    "a = 2\n",
    "newton (f, f_prime, a, tol = 1*10**(-6))"
   ]
  },
  {
   "cell_type": "code",
   "execution_count": 42,
   "id": "612ab2cf",
   "metadata": {},
   "outputs": [
    {
     "data": {
      "text/plain": [
       "(1.4142135450464253, 4)"
      ]
     },
     "execution_count": 42,
     "metadata": {},
     "output_type": "execute_result"
    }
   ],
   "source": [
    "import random as rd\n",
    "#Write code to implement the Secant Method.\n",
    "def secant (f, a, b, tol):\n",
    "    # f is differentiable function\n",
    "    # a and b are close approximations to the root\n",
    "    # tol is the tolerance\n",
    "    f_prime = (f(b)-f(a)) / (b-a)\n",
    "    c = b - (f(b)/f_prime)\n",
    "    count = 0\n",
    "    while abs(f(c)) > tol:\n",
    "        f_prime = (f(b)-f(a)) / (b-a)\n",
    "        c = b - (f(b)/f_prime)\n",
    "        a = b\n",
    "        b = c\n",
    "        count += 1\n",
    "    return(c, count)\n",
    "    \n",
    "f = lambda x: x**2 - 2\n",
    "a = rd.uniform(0,2)\n",
    "b = rd.uniform(0,2)\n",
    "secant (f, a, b, tol = 1*10**(-6))"
   ]
  },
  {
   "cell_type": "code",
   "execution_count": 2,
   "id": "3b04cce7",
   "metadata": {
    "scrolled": true
   },
   "outputs": [
    {
     "data": {
      "text/plain": [
       "[<matplotlib.lines.Line2D at 0x11bf197e0>]"
      ]
     },
     "execution_count": 2,
     "metadata": {},
     "output_type": "execute_result"
    },
    {
     "data": {
      "image/png": "[encoded data removed]",
      "text/plain": [
       "<Figure size 432x288 with 1 Axes>"
      ]
     },
     "metadata": {
      "needs_background": "light"
     },
     "output_type": "display_data"
    }
   ],
   "source": [
    "import matplotlib.pyplot as plt\n",
    "import numpy as np\n",
    "x = np.linspace(0,4,100)\n",
    "y = x**2 - np.cos(x) - 3*np.sin(x) - 9\n",
    "plt.plot(x, y, linewidth = 2.0)"
   ]
  },
  {
   "cell_type": "code",
   "execution_count": 21,
   "id": "ee441870",
   "metadata": {},
   "outputs": [
    {
     "name": "stdout",
     "output_type": "stream",
     "text": [
      "56*x**6 + 42*x**5 - 240*x**4 - 9*sin(x)\n"
     ]
    }
   ],
   "source": [
    "import sympy as sym\n",
    "f = lambda x: 8*x**7 + 7*x**6 - 48*x**5 + 9*sym.cos(x)\n",
    "x = sym.Symbol(\"x\")\n",
    "print(sym.diff(f(x)))"
   ]
  },
  {
   "cell_type": "code",
   "execution_count": 22,
   "id": "cea94aff",
   "metadata": {},
   "outputs": [
    {
     "name": "stdout",
     "output_type": "stream",
     "text": [
      "[1.2624795027960787, 0.004708021555358267, 2.1568190342661157e-10]\n"
     ]
    },
    {
     "data": {
      "text/plain": [
       "[<matplotlib.lines.Line2D at 0x11e423f40>]"
      ]
     },
     "execution_count": 22,
     "metadata": {},
     "output_type": "execute_result"
    },
    {
     "data": {
      "image/png": "[encoded data removed]",
      "text/plain": [
       "<Figure size 432x288 with 1 Axes>"
      ]
     },
     "metadata": {
      "needs_background": "light"
     },
     "output_type": "display_data"
    }
   ],
   "source": [
    "import numpy as np\n",
    "import matplotlib.pyplot as plt\n",
    "import math\n",
    "def newtown_n2_modified(f, f_prime, f_double_prime, x, tol):\n",
    "    \"\"\"An implementation of the 'double' Netwon-Raphson method for finding roots of a differentiable function.\n",
    "    \n",
    "    Arguments:\n",
    "        f: the lambda function for the differentiable function we want to find the roots for\n",
    "        f_prime: hand-calculated derivative of f\n",
    "        f_double_prime: hand-calculated derivative of f\n",
    "        x: initial approximation for the root\n",
    "        tol: the tolerance\n",
    "        \n",
    "    Returns:\n",
    "        An estimate for the root of the function.\n",
    "    \"\"\"\n",
    "    x = (-f_prime(x) + math.sqrt((f_prime(x))**2 -2*(f(x))*(f_double_prime(x))) + f_double_prime(x)* x) / f_double_prime(x)\n",
    "    store = []\n",
    "    while abs(f(x)) > tol:\n",
    "        x = (-f_prime(x) + math.sqrt((f_prime(x))**2 -2*(f(x))*(f_double_prime(x))) + f_double_prime(x)* x) / f_double_prime(x)\n",
    "        store.append(abs(f(x)))\n",
    "    return(store)\n",
    "\n",
    "x = 1\n",
    "m = lambda x: x**8 + x**7 - 8*x**6 + 9*np.sin(x)\n",
    "m_prime = lambda x: 8*x**7 + 7*x**6 - 48*x**5 + 9*np.cos(x)\n",
    "m_double_prime = lambda x: 56*x**6 + 42*x**5 - 240*x**4 - 9*np.sin(x)\n",
    "tol=1e-6\n",
    "\n",
    "error = newtown_n2_modified(m, m_prime, m_double_prime, x, tol) \n",
    "print(error)\n",
    "plt.loglog(error[:-1],error[1:]) # blue line\n"
   ]
  },
  {
   "cell_type": "code",
   "execution_count": 56,
   "id": "5f736f9f",
   "metadata": {},
   "outputs": [
    {
     "name": "stderr",
     "output_type": "stream",
     "text": [
      "/var/folders/sx/gw6n5mnj28x21kcmksnp_p240000gn/T/ipykernel_5099/872680204.py:4: RuntimeWarning: divide by zero encountered in log\n",
      "  y = x*np.sin(x) - np.log(x)\n"
     ]
    },
    {
     "data": {
      "text/plain": [
       "[<matplotlib.lines.Line2D at 0x11ce0f700>]"
      ]
     },
     "execution_count": 56,
     "metadata": {},
     "output_type": "execute_result"
    },
    {
     "data": {
      "image/png": "[encoded data removed]",
      "text/plain": [
       "<Figure size 432x288 with 1 Axes>"
      ]
     },
     "metadata": {
      "needs_background": "light"
     },
     "output_type": "display_data"
    }
   ],
   "source": [
    "import matplotlib.pyplot as plt\n",
    "\n",
    "x = np.linspace(0,5, 100)\n",
    "y = x*np.sin(x) - np.log(x)\n",
    "plt.plot(x, y, linewidth = 2.0)"
   ]
  },
  {
   "cell_type": "code",
   "execution_count": 55,
   "id": "88608cc7",
   "metadata": {},
   "outputs": [
    {
     "data": {
      "text/plain": [
       "(array([2.76492175]),\n",
       " {'nfev': 8,\n",
       "  'fjac': array([[-1.]]),\n",
       "  'r': array([2.56493214]),\n",
       "  'qtf': array([1.10844667e-12]),\n",
       "  'fvec': array([-2.22044605e-16])},\n",
       " 1,\n",
       " 'The solution converged.')"
      ]
     },
     "execution_count": 55,
     "metadata": {},
     "output_type": "execute_result"
    }
   ],
   "source": [
    "from scipy.optimize import fsolve\n",
    "import numpy as np\n",
    "f = lambda x: x*np.sin(x) - np.log(x)\n",
    "fsolve(f, 3, full_output = 1)"
   ]
  },
  {
   "cell_type": "code",
   "execution_count": 68,
   "id": "d6e3649b",
   "metadata": {},
   "outputs": [
    {
     "name": "stdout",
     "output_type": "stream",
     "text": [
      "[1.41421356]\n",
      "[1.41421356]\n",
      "[1.41421356]\n",
      "[1.41421356]\n",
      "[1.41421356]\n"
     ]
    }
   ],
   "source": [
    "f = lambda x: x**2 - 2\n",
    "f_prime = lambda x: 2*x\n",
    "print(fsolve(f, 3))\n",
    "print(fsolve(f, 3, fprime = f_prime))\n",
    "print(fsolve(f, 3, col_deriv = 1))\n",
    "print(fsolve(f, 3, xtol = 1*10**(-6)))\n",
    "print(fsolve(f, 3, maxfev = 100))"
   ]
  },
  {
   "cell_type": "code",
   "execution_count": null,
   "id": "c23764e2",
   "metadata": {},
   "outputs": [],
   "source": []
  },
  {
   "cell_type": "code",
   "execution_count": null,
   "id": "85f77413",
   "metadata": {},
   "outputs": [],
   "source": []
  }
 ],
 "metadata": {
  "kernelspec": {
   "display_name": "Python 3 (ipykernel)",
   "language": "python",
   "name": "python3"
  },
  "language_info": {
   "codemirror_mode": {
    "name": "ipython",
    "version": 3
   },
   "file_extension": ".py",
   "mimetype": "text/x-python",
   "name": "python",
   "nbconvert_exporter": "python",
   "pygments_lexer": "ipython3",
   "version": "3.10.0"
  }
 },
 "nbformat": 4,
 "nbformat_minor": 5
}
