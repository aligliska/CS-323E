{
 "cells": [
  {
   "cell_type": "code",
   "execution_count": 1,
   "id": "c360e770",
   "metadata": {},
   "outputs": [],
   "source": [
    "# simpson's method \n",
    "def integral_simpson(f, a, b, n):\n",
    "    h = (b - a) / n\n",
    "    odd = 0\n",
    "    for i in range(0, n, 2):\n",
    "        odd += f(a + h*i)\n",
    "    even = 0 \n",
    "    for j in range(1, n-1, 2):\n",
    "        even += f(a + h*j)\n",
    "    output = h/3 * (f(a) + 4*(odd) + 2*(even) + f(b))\n",
    "    return(output)\n"
   ]
  },
  {
   "cell_type": "code",
   "execution_count": null,
   "id": "8d256996",
   "metadata": {},
   "outputs": [],
   "source": [
    "# trapezoid method\n",
    "\n",
    "def integral(f, a, b, n): \n",
    "    store = 0\n",
    "    h = (b-a)/n\n",
    "    # divide the interval into n equal parts\n",
    "    x = np.linspace (a, b, n+1)\n",
    "    \n",
    "    for j in range(0, len(x)-1):\n",
    "        store += ((f(x[j+1]) + f(x[j])) / 2) * h\n",
    "    \n",
    "    return(store)"
   ]
  },
  {
   "cell_type": "code",
   "execution_count": 7,
   "id": "2ea11bf1",
   "metadata": {},
   "outputs": [
    {
     "data": {
      "text/plain": [
       "<matplotlib.collections.PathCollection at 0x10feb6d70>"
      ]
     },
     "execution_count": 7,
     "metadata": {},
     "output_type": "execute_result"
    },
    {
     "data": {
      "image/png": "[encoded data removed]",
      "text/plain": [
       "<Figure size 432x288 with 1 Axes>"
      ]
     },
     "metadata": {
      "needs_background": "light"
     },
     "output_type": "display_data"
    }
   ],
   "source": [
    "# least squares method \n",
    "# y = a0 + a1*x\n",
    "# v^2 = a0 + a1*x - yi\n",
    "# f = ∑v^2 = ∑(a= + a1*x - yi)^2\n",
    "## from 2 = i --> n\n",
    "\n",
    "# df/da0 = ∑2(a0 + a1*x - yi) = 0\n",
    "## df/da1 = ∑2(a0 + a1*x - yi)*xi = 0\n",
    "\n",
    "# normal equations:\n",
    "## na0 + (∑xi)*a1 - ∑yi= 0 \n",
    "## (∑xi)*a0 + (∑xi^2)*a1 - ∑xiyi = 0\n",
    "\n",
    "# ∆ = | n ∑xi, ∑xi ∑xi^2 | \n",
    "## a0 = |∑yi ∑xi , ∑xiyi ∑xi^2| / ∆\n",
    "## a1 = |n ∑yi , ∑xi ∑xiyi| / ∆\n",
    "\n",
    "# y = ax^n\n",
    "# log(y) = log(a) + nlog(x) \n",
    "# vi = log(a) + nlog(xi) - log(yi)\n",
    "\n",
    "# normal equation --> Nlog(a) + ∑log(xi)n - ∑log(yi) = 0\n",
    "## (∑log(xi)*log(a)) + [∑log(xi)^2]*n - ∑log(xi)∑log(yi) = 0\n",
    "\n",
    "## ∆ = | N ∑log(xi), ∑log(xi) ∑ log(xi)2\n",
    "## log(a) = |∑log(yi) ∑log(xi), ∑log(xi)∑log(yi) ∑(log(xi))^2| / ∆\n",
    "## n = |N ∑log(yi), ∑log(xi) ∑log(xi)∑log(yi) | / ∆ \n",
    "\n",
    "plt.scatter(xdata, ydata)"
   ]
  },
  {
   "cell_type": "code",
   "execution_count": 19,
   "id": "b7d78d7c",
   "metadata": {},
   "outputs": [
    {
     "data": {
      "image/png": "[encoded data removed]",
      "text/plain": [
       "<Figure size 432x288 with 1 Axes>"
      ]
     },
     "metadata": {
      "needs_background": "light"
     },
     "output_type": "display_data"
    }
   ],
   "source": [
    "import numpy as np\n",
    "import matplotlib.pyplot as plt\n",
    "# Input: data is a list of tuples of (x, y) values\n",
    "# Output: using least squares method fits a linear curve of the form\n",
    "#         y = a0 + a1 * x\n",
    "#         returns a0 and a1\n",
    "\n",
    "def determinant(a, b, c, d):\n",
    "    output = a*d - b*c\n",
    "    return output\n",
    "\n",
    "def linear_fit (data):\n",
    "    n = len(data)\n",
    "    sum_xi = 0\n",
    "    sum_xi2 = 0 \n",
    "    sum_yi = 0 \n",
    "    sum_yi2 = 0\n",
    "    sum_xiyi = 0\n",
    "    for i in range(n):\n",
    "        sum_xi += data[i][0]\n",
    "        sum_xi2 += (data[i][0])**2\n",
    "        sum_yi += data[i][1]\n",
    "        sum_yi2 += (data[i][1])**2\n",
    "        sum_xiyi += data[i][0] * data[i][1]\n",
    "    delta = determinant(n, sum_xi, sum_xi, sum_xi2)\n",
    "    a0 = determinant(sum_yi, sum_xi, sum_xiyi, sum_xi2) / delta\n",
    "    a1 = determinant(n, sum_yi, sum_xi, sum_xiyi) / delta\n",
    "    return (a0, a1)\n",
    "\n",
    "def main():\n",
    "    data = [(0.5, 0.31), (1.0, 0.82), (1.5, 1.29), (2.0, 1.85), (2.5, 2.51), (3.0, 3.02)]\n",
    "  # a0, a1 = linear_fit (data)[0], linear_fit(data)[1]\n",
    "    a0 = linear_fit(data)[0]\n",
    "    a1 = linear_fit(data)[1]\n",
    "  # plot the points and the best fit line\n",
    "    x = np.linspace(0,3, 6)\n",
    "    y = a0 + a1 * x\n",
    "    plt.plot(x, y)\n",
    "    x_data = [x[0] for x in data]\n",
    "    y_data = [y[1] for y in data]\n",
    "    plt.scatter(x_data, y_data)\n",
    "\n",
    "main()\n"
   ]
  },
  {
   "cell_type": "code",
   "execution_count": null,
   "id": "a3a8126c",
   "metadata": {},
   "outputs": [],
   "source": [
    "# y = ae^(bx) \n",
    "## log(y) = log(a) + b*log(e)*x \n",
    "## B = b*log(e) --> log(y) = log(a) + Bx \n",
    "\n",
    "# normal equation --> nlog(a) + (∑xi)*B - ∑log(yi) = 0\n",
    "## (∑xi)*log(a) + (∑xi^2)*B - (∑xi)(∑logyi) = 0\n",
    "## ∆ = | n ∑xi, ∑xi ∑xi^2 |\n",
    "## log(a) = |∑log(yi) ∑xi, (∑xi)*(∑logyi) ∑xi^2 | / ∆ \n",
    "## B/log(e) = |n ∑log(yi), ∑xi (∑xi)*(∑logyi)| / (∆ * log(e)) = b\n",
    "\n",
    "\n",
    "def non_linear_fit(data):\n",
    "    return a, b\n",
    "    "
   ]
  }
 ],
 "metadata": {
  "kernelspec": {
   "display_name": "Python 3 (ipykernel)",
   "language": "python",
   "name": "python3"
  },
  "language_info": {
   "codemirror_mode": {
    "name": "ipython",
    "version": 3
   },
   "file_extension": ".py",
   "mimetype": "text/x-python",
   "name": "python",
   "nbconvert_exporter": "python",
   "pygments_lexer": "ipython3",
   "version": "3.10.0"
  }
 },
 "nbformat": 4,
 "nbformat_minor": 5
}
