{
 "cells": [
  {
   "cell_type": "code",
   "execution_count": 2,
   "id": "7327ffb7",
   "metadata": {},
   "outputs": [
    {
     "name": "stdout",
     "output_type": "stream",
     "text": [
      "3.143636\n"
     ]
    }
   ],
   "source": [
    "import math \n",
    "import random \n",
    "\n",
    "count = 0\n",
    "n = 1000000\n",
    "for i in range(n):\n",
    "    x_pos = random.uniform(-1,1)\n",
    "    y_pos = random.uniform(-1,1)\n",
    "    if math.hypot(x_pos,y_pos) < 1:\n",
    "        count += 1\n",
    "print(count / n * 4)"
   ]
  },
  {
   "cell_type": "code",
   "execution_count": 3,
   "id": "fee13785",
   "metadata": {},
   "outputs": [
    {
     "data": {
      "text/plain": [
       "[<matplotlib.lines.Line2D at 0x1160f9510>]"
      ]
     },
     "execution_count": 3,
     "metadata": {},
     "output_type": "execute_result"
    },
    {
     "data": {
      "image/png": "[encoded data removed]",
      "text/plain": [
       "<Figure size 432x288 with 1 Axes>"
      ]
     },
     "metadata": {
      "needs_background": "light"
     },
     "output_type": "display_data"
    }
   ],
   "source": [
    "import numpy as np\n",
    "import matplotlib.pyplot as plt\n",
    "x = np.linspace(0,1.5)\n",
    "y = np.sin(x**2)\n",
    "plt.plot(x, y)"
   ]
  },
  {
   "cell_type": "code",
   "execution_count": 4,
   "id": "ff420b20",
   "metadata": {},
   "outputs": [
    {
     "name": "stdout",
     "output_type": "stream",
     "text": [
      "0.9929036510941185\n",
      "0.7788569571540274\n"
     ]
    }
   ],
   "source": [
    "y = lambda x: np.sin(x**2)\n",
    "\n",
    "# gets the actual y_max for the function \n",
    "upper = 0\n",
    "for i in np.arange(0, 1.5, 0.1):\n",
    "    if y(i) > upper:\n",
    "        upper = y(i)\n",
    "\n",
    "count = 0\n",
    "n = 1000000\n",
    "\n",
    "for i in range(n):\n",
    "    x_pos = random.uniform(0,1.5)\n",
    "    y_pos = random.uniform(0,upper)\n",
    "    if y_pos <= y(x_pos):\n",
    "        count += 1\n",
    "print(count/n * (upper*1.5))"
   ]
  },
  {
   "cell_type": "code",
   "execution_count": null,
   "id": "b086545a",
   "metadata": {},
   "outputs": [],
   "source": []
  }
 ],
 "metadata": {
  "kernelspec": {
   "display_name": "Python 3 (ipykernel)",
   "language": "python",
   "name": "python3"
  },
  "language_info": {
   "codemirror_mode": {
    "name": "ipython",
    "version": 3
   },
   "file_extension": ".py",
   "mimetype": "text/x-python",
   "name": "python",
   "nbconvert_exporter": "python",
   "pygments_lexer": "ipython3",
   "version": "3.10.0"
  }
 },
 "nbformat": 4,
 "nbformat_minor": 5
}
