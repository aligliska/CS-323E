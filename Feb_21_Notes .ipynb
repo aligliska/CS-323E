{
 "cells": [
  {
   "cell_type": "code",
   "execution_count": 4,
   "id": "1d7ef658",
   "metadata": {},
   "outputs": [],
   "source": [
    "# import libraries \n",
    "import matplotlib.pyplot as plt\n",
    "import numpy as np\n",
    "import math "
   ]
  },
  {
   "cell_type": "code",
   "execution_count": 2,
   "id": "861ac5dd",
   "metadata": {},
   "outputs": [
    {
     "data": {
      "text/html": [
       "<div id=\"glowscript\" class=\"glowscript\"></div>"
      ],
      "text/plain": [
       "<IPython.core.display.HTML object>"
      ]
     },
     "metadata": {},
     "output_type": "display_data"
    },
    {
     "data": {
      "application/javascript": [
       "if (typeof Jupyter !== \"undefined\") { window.__context = { glowscript_container: $(\"#glowscript\").removeAttr(\"id\")};}else{ element.textContent = ' ';}"
      ],
      "text/plain": [
       "<IPython.core.display.Javascript object>"
      ]
     },
     "metadata": {},
     "output_type": "display_data"
    },
    {
     "data": {
      "application/javascript": [
       "if (typeof Jupyter !== \"undefined\") {require.undef(\"nbextensions/vpython_libraries/glow.min\");}else{element.textContent = ' ';}"
      ],
      "text/plain": [
       "<IPython.core.display.Javascript object>"
      ]
     },
     "metadata": {},
     "output_type": "display_data"
    },
    {
     "data": {
      "application/javascript": [
       "if (typeof Jupyter !== \"undefined\") {require.undef(\"nbextensions/vpython_libraries/glowcomm\");}else{element.textContent = ' ';}"
      ],
      "text/plain": [
       "<IPython.core.display.Javascript object>"
      ]
     },
     "metadata": {},
     "output_type": "display_data"
    },
    {
     "data": {
      "application/javascript": [
       "if (typeof Jupyter !== \"undefined\") {require.undef(\"nbextensions/vpython_libraries/jquery-ui.custom.min\");}else{element.textContent = ' ';}"
      ],
      "text/plain": [
       "<IPython.core.display.Javascript object>"
      ]
     },
     "metadata": {},
     "output_type": "display_data"
    },
    {
     "data": {
      "application/javascript": [
       "if (typeof Jupyter !== \"undefined\") {require([\"nbextensions/vpython_libraries/glow.min\"], function(){console.log(\"GLOW LOADED\");});}else{element.textContent = ' ';}"
      ],
      "text/plain": [
       "<IPython.core.display.Javascript object>"
      ]
     },
     "metadata": {},
     "output_type": "display_data"
    },
    {
     "data": {
      "application/javascript": [
       "if (typeof Jupyter !== \"undefined\") {require([\"nbextensions/vpython_libraries/glowcomm\"], function(){console.log(\"GLOWCOMM LOADED\");});}else{element.textContent = ' ';}"
      ],
      "text/plain": [
       "<IPython.core.display.Javascript object>"
      ]
     },
     "metadata": {},
     "output_type": "display_data"
    },
    {
     "data": {
      "application/javascript": [
       "if (typeof Jupyter !== \"undefined\") {require([\"nbextensions/vpython_libraries/jquery-ui.custom.min\"], function(){console.log(\"JQUERY LOADED\");});}else{element.textContent = ' ';}"
      ],
      "text/plain": [
       "<IPython.core.display.Javascript object>"
      ]
     },
     "metadata": {},
     "output_type": "display_data"
    }
   ],
   "source": [
    "from vpython import *\n",
    "def main(): \n",
    "    # define ball \n",
    "    ball = sphere(pos = vector(0, 0, 0), radius = 0.5, color = color.red)\n",
    "    \n",
    "    #define walls to the right and left \n",
    "    wallR = box(pos = vector(6, 0, 0), size = vector(0.2, 12, 12), color = color.cyan)\n",
    "    wallL = box(pos = vector(-6, 0, 0), size = vector(0.2, 12, 12), color = color.cyan)\n",
    "    wallF = box(pos = vector(0, -6, 0), size = vector(12, 0.2, 12), color = color.cyan)\n",
    "    wallC = box(pos = vector(0, 6, 0), size = vector(12, 0.2, 12), color = color.cyan)\n",
    "    wallB = box(pos = vector(0, 0, -6), size = vector(12, 12, 0.2), color = color.cyan)\n",
    "    \n",
    "    # define the velocity of the ball \n",
    "    ball.velocity = vector(25, 25, 25)\n",
    "    \n",
    "    # define the motion of the ball \n",
    "    dt = 0.005\n",
    "    t = 0\n",
    "    ball.pos = ball.pos + ball.velocity * dt\n",
    "    while (t < 3):\n",
    "        rate(50)\n",
    "        if (ball.pos.x + ball.radius) == wallR.pos.x:\n",
    "            ball.velocity.x *= -1\n",
    "        if (ball.pos.x - ball.radius) == wallL.pos.x:\n",
    "            ball.velocity.x *= -1\n",
    "        if (ball.pos.y + ball.radius) == wallC.pos.y:\n",
    "            ball.velocity.y *= -1\n",
    "        if (ball.pos.y - ball.radius) == wallF.pos.y:\n",
    "            ball.velocity.y *= -1\n",
    "        if (ball.pos.z - ball.radius) == wallB.pos.z:\n",
    "            ball.velocity.z *= -1\n",
    "        if (ball.pos.z - ball.radius) == -(wallB.pos.z):\n",
    "            ball.velocity.z *= -1\n",
    "        ball.pos = ball.pos + ball.velocity*dt\n",
    "        \n",
    "        t += dt\n",
    "\n",
    "main()"
   ]
  },
  {
   "cell_type": "code",
   "execution_count": 2,
   "id": "88b0e9a6",
   "metadata": {},
   "outputs": [
    {
     "ename": "SyntaxError",
     "evalue": "invalid syntax (2713029622.py, line 2)",
     "output_type": "error",
     "traceback": [
      "\u001b[0;36m  Input \u001b[0;32mIn [2]\u001b[0;36m\u001b[0m\n\u001b[0;31m    for k = 1 to n - 1\u001b[0m\n\u001b[0m          ^\u001b[0m\n\u001b[0;31mSyntaxError\u001b[0m\u001b[0;31m:\u001b[0m invalid syntax\n"
     ]
    }
   ],
   "source": [
    "# forward elimination \n",
    "for k = 1 to n - 1\n",
    "    for i = k + 1 to n\n",
    "        bi = bi - (aik*bk/akk)\n",
    "            for j = k + 1 to n \n",
    "                aij = aij - (aik*akj/akk)\n",
    "# back substitution\n",
    "xn = bn/ann\n",
    "for k = n - 1 to 1 (backwards)\n",
    "    xk = (bk - sum from j = k + 1 to n (akj*xj))/akk"
   ]
  },
  {
   "cell_type": "code",
   "execution_count": 3,
   "id": "0dcf523d",
   "metadata": {},
   "outputs": [
    {
     "name": "stdout",
     "output_type": "stream",
     "text": [
      "[1, 1, 1, 3]\n",
      "[0, 1.0, 2.0, -3.0]\n",
      "[0, 0, -3.0, 6.0]\n",
      "[4.0, 1.0, -2.0]\n"
     ]
    }
   ],
   "source": [
    "#Write code to solve a linear system of equations using forward\n",
    "#elimination and back substitution.\n",
    "def forward_elimination(matrix):\n",
    "    n = len(matrix)\n",
    "    m = len(matrix[0])\n",
    "    for k in range(n):\n",
    "        for i in range(k + 1, n + 1):\n",
    "            try: \n",
    "                matrix[i][m] -= (matrix[i][k]*matrix[k][m]) / matrix[k][k]\n",
    "            except: \n",
    "                pass\n",
    "            for j in range(k + 1, n + 1):\n",
    "                try: \n",
    "                    matrix[i][j] -= (matrix[i][k]*matrix[k][j]/matrix[k][k])\n",
    "                except: \n",
    "                    pass\n",
    "    for z in range(n):\n",
    "        if n == 0:\n",
    "            next\n",
    "        else:\n",
    "            for y in range(z):\n",
    "                matrix[z][y] = 0\n",
    "    return(matrix)\n",
    "\n",
    "def back_substitution(matrix):\n",
    "    # num rows \n",
    "    n = len(matrix)\n",
    "    \n",
    "    # num cols\n",
    "    m = len(matrix[0])\n",
    "    \n",
    "    store = [0 for i in range(n)]\n",
    "    \n",
    "    store[n-1] = matrix[n-1][n] / matrix[n-1][n-1]\n",
    "    \n",
    "    for k in range(n-2, -1, -1):\n",
    "        temp = 0\n",
    "        for j in range(k + 1, n):\n",
    "            temp += matrix[k][j] * store[j]\n",
    "        store[k] = (matrix[k][n] - temp)/ matrix[k][k]\n",
    "    return(store)\n",
    "    \n",
    "\n",
    "# Input: a is 2-D matrix\n",
    "# Output: a vector that is the solution\n",
    "def linear_solve (a):\n",
    "  # do forward elimination\n",
    "    output = forward_elimination(a)\n",
    "    for row in output:\n",
    "        print(row)\n",
    "    \n",
    "  # do back substitution\n",
    "    output = back_substitution(output)\n",
    "\n",
    "  # return result (a list)\n",
    "    return(output)\n",
    "\n",
    "def main():\n",
    "      # read the matrix\n",
    "    temp_matrix = [[1, 1, 1, 3], [1, 2, 3, 0], [1, 3, 2, 3]]\n",
    "    \n",
    "    # solve the linear system\n",
    "    out = linear_solve(temp_matrix)\n",
    "    \n",
    "    # print the result\n",
    "    print(out)\n",
    "\n",
    "main()\n",
    "\n",
    "\n",
    "#Output\n",
    "#[4, 1, -2]"
   ]
  },
  {
   "cell_type": "code",
   "execution_count": 5,
   "id": "b111fb73",
   "metadata": {},
   "outputs": [
    {
     "data": {
      "text/plain": [
       "(matrix([[1. , 0. , 0. ],\n",
       "         [1. , 1. , 0. ],\n",
       "         [1. , 1.5, 1. ]]),\n",
       " array([[ 1,  1,  1],\n",
       "        [ 0,  1,  2],\n",
       "        [ 0,  0, -2]]))"
      ]
     },
     "execution_count": 5,
     "metadata": {},
     "output_type": "execute_result"
    }
   ],
   "source": [
    "def myLU(A):\n",
    "    n = A.shape[0] # get the dimension of the matrix A\n",
    "    L = np.matrix( np.identity(n) ) # Build the identity part L\n",
    "    U = np.copy(A) # start the U matrix as a copy of A\n",
    "    for j in range(0,n-1):\n",
    "        for i in range(j+1,n):\n",
    "            mult = A[i,j] / A[j,j]\n",
    "            U[i, j+1:n] = U[i, j+1:n] - mult * U[j,j+1:n]\n",
    "            L[i,j] = mult\n",
    "            U[i,j] = 0 # why are we doing this?\n",
    "    return L,U\n",
    "temp_matrix = np.matrix([[1, 1, 1], [1, 2, 3], [1, 3, 2]])\n",
    "myLU(temp_matrix)"
   ]
  },
  {
   "cell_type": "code",
   "execution_count": null,
   "id": "8052befa",
   "metadata": {},
   "outputs": [],
   "source": []
  }
 ],
 "metadata": {
  "kernelspec": {
   "display_name": "Python 3 (ipykernel)",
   "language": "python",
   "name": "python3"
  },
  "language_info": {
   "codemirror_mode": {
    "name": "ipython",
    "version": 3
   },
   "file_extension": ".py",
   "mimetype": "text/x-python",
   "name": "python",
   "nbconvert_exporter": "python",
   "pygments_lexer": "ipython3",
   "version": "3.10.0"
  }
 },
 "nbformat": 4,
 "nbformat_minor": 5
}
