{
 "cells": [
  {
   "cell_type": "code",
   "execution_count": 1,
   "id": "cd049b8f",
   "metadata": {},
   "outputs": [
    {
     "name": "stdout",
     "output_type": "stream",
     "text": [
      "[7 3 5]\n",
      "\n",
      "length of vector: 3\n",
      "norm of vector: 9.1104335791443\n",
      "\n",
      "[[4 9 2]\n",
      " [3 5 7]\n",
      " [8 1 6]]\n",
      "norm of A: 16.881943016134134\n",
      "shape of A: (3, 3)\n",
      "rows of A: 3\n",
      "columns of A: 3\n",
      "\n",
      "transpose of A:\n",
      " [[4 3 8]\n",
      " [9 5 1]\n",
      " [2 7 6]]\n",
      "A:\n",
      " [[4 9 2]\n",
      " [3 5 7]\n",
      " [8 1 6]]\n",
      "transpose of A:\n",
      " [[4 3 8]\n",
      " [9 5 1]\n",
      " [2 7 6]]\n",
      "A * transpose of A:\n",
      " [[ 89  59  77]\n",
      " [ 59 107  59]\n",
      " [ 77  59  89]]\n",
      "\n",
      "matrix u:\n",
      " [4 9 2]\n",
      "matrix v:\n",
      " [3 5 7]\n",
      "dot product of u and v:\n",
      " 71\n",
      "\n",
      "u x v:\n",
      " [ 53 -22  -7]\n",
      "v x u:\n",
      " [-53  22   7]\n"
     ]
    }
   ],
   "source": [
    "import numpy as np\n",
    "\n",
    "def main(): \n",
    "    # define a vector \n",
    "    u = np.array([7, 3, 5])\n",
    "    print(u)\n",
    "    print()\n",
    "    \n",
    "    # get the size of the vector\n",
    "    print(\"length of vector:\", len(u))\n",
    "    print(\"norm of vector:\", np.linalg.norm(u))\n",
    "    print()\n",
    "    \n",
    "    # define a matrix\n",
    "    A = np.matrix([[4, 9, 2], [3, 5, 7], [8, 1, 6]])\n",
    "    print(A)\n",
    "    print(\"norm of A:\", np.linalg.norm(A))\n",
    "    print(\"shape of A:\", A.shape)\n",
    "    print(\"rows of A:\", A.shape[0])\n",
    "    print(\"columns of A:\", A.shape[1])\n",
    "    print()\n",
    "    \n",
    "    # get the transpose of the matrix\n",
    "    W = A.transpose()\n",
    "    print(\"transpose of A:\\n\", W)\n",
    "    \n",
    "    # matrix multiply\n",
    "    print(\"A:\\n\", A)\n",
    "    print(\"transpose of A:\\n\", W)\n",
    "    Q = W * A\n",
    "    print(\"A * transpose of A:\\n\",Q)\n",
    "    print()\n",
    "    \n",
    "    # dot product\n",
    "    u = np.array([4, 9, 2])\n",
    "    print(\"matrix u:\\n\", u)\n",
    "    v = np.array([3, 5, 7])\n",
    "    print(\"matrix v:\\n\", v)\n",
    "    w = np.dot(u, v)\n",
    "    print(\"dot product of u and v:\\n\", w)\n",
    "    print()\n",
    "    \n",
    "    # cross product\n",
    "    w = np.cross(u, v)\n",
    "    print(\"u x v:\\n\",w)\n",
    "    w = np.cross(v, u)\n",
    "    print(\"v x u:\\n\",w)\n",
    "    \n",
    "main()"
   ]
  },
  {
   "cell_type": "code",
   "execution_count": null,
   "id": "d8ff7726",
   "metadata": {},
   "outputs": [],
   "source": [
    "# overdetermined systems --> use all the solutions in the equations \n",
    "# n + m solutions --> n solutions, where n = number of variables \n",
    "\n",
    "# we talked about transformations \n",
    "## forgot the names: stretching vertically and horizontally, rotation "
   ]
  },
  {
   "cell_type": "code",
   "execution_count": null,
   "id": "27c1777b",
   "metadata": {},
   "outputs": [
    {
     "data": {
      "text/html": [
       "<div id=\"glowscript\" class=\"glowscript\"></div>"
      ],
      "text/plain": [
       "<IPython.core.display.HTML object>"
      ]
     },
     "metadata": {},
     "output_type": "display_data"
    },
    {
     "data": {
      "application/javascript": [
       "if (typeof Jupyter !== \"undefined\") { window.__context = { glowscript_container: $(\"#glowscript\").removeAttr(\"id\")};}else{ element.textContent = ' ';}"
      ],
      "text/plain": [
       "<IPython.core.display.Javascript object>"
      ]
     },
     "metadata": {},
     "output_type": "display_data"
    },
    {
     "data": {
      "application/javascript": [
       "if (typeof Jupyter !== \"undefined\") {require.undef(\"nbextensions/vpython_libraries/glow.min\");}else{element.textContent = ' ';}"
      ],
      "text/plain": [
       "<IPython.core.display.Javascript object>"
      ]
     },
     "metadata": {},
     "output_type": "display_data"
    },
    {
     "data": {
      "application/javascript": [
       "if (typeof Jupyter !== \"undefined\") {require.undef(\"nbextensions/vpython_libraries/glowcomm\");}else{element.textContent = ' ';}"
      ],
      "text/plain": [
       "<IPython.core.display.Javascript object>"
      ]
     },
     "metadata": {},
     "output_type": "display_data"
    },
    {
     "data": {
      "application/javascript": [
       "if (typeof Jupyter !== \"undefined\") {require.undef(\"nbextensions/vpython_libraries/jquery-ui.custom.min\");}else{element.textContent = ' ';}"
      ],
      "text/plain": [
       "<IPython.core.display.Javascript object>"
      ]
     },
     "metadata": {},
     "output_type": "display_data"
    },
    {
     "data": {
      "application/javascript": [
       "if (typeof Jupyter !== \"undefined\") {require([\"nbextensions/vpython_libraries/glow.min\"], function(){console.log(\"GLOW LOADED\");});}else{element.textContent = ' ';}"
      ],
      "text/plain": [
       "<IPython.core.display.Javascript object>"
      ]
     },
     "metadata": {},
     "output_type": "display_data"
    },
    {
     "data": {
      "application/javascript": [
       "if (typeof Jupyter !== \"undefined\") {require([\"nbextensions/vpython_libraries/glowcomm\"], function(){console.log(\"GLOWCOMM LOADED\");});}else{element.textContent = ' ';}"
      ],
      "text/plain": [
       "<IPython.core.display.Javascript object>"
      ]
     },
     "metadata": {},
     "output_type": "display_data"
    },
    {
     "data": {
      "application/javascript": [
       "if (typeof Jupyter !== \"undefined\") {require([\"nbextensions/vpython_libraries/jquery-ui.custom.min\"], function(){console.log(\"JQUERY LOADED\");});}else{element.textContent = ' ';}"
      ],
      "text/plain": [
       "<IPython.core.display.Javascript object>"
      ]
     },
     "metadata": {},
     "output_type": "display_data"
    }
   ],
   "source": [
    "from vpython import *\n",
    "def main():\n",
    "    # define constants\n",
    "    G = 6.67408e-11\n",
    "    \n",
    "    # mass of the sun \n",
    "    m_sun = 1.9891e30\n",
    "    \n",
    "    # radius of the sun (not to scale)\n",
    "    # r_sun = 6.9634e8 (if to scale)\n",
    "    r_sun = 5e10\n",
    "    \n",
    "    # mass of earth \n",
    "    m_earth = 5.972e24\n",
    "    \n",
    "    #radius of the earth (not to scale)\n",
    "    #r_earth = 6.367e6 (if to scale)\n",
    "    r_earth = 1e10\n",
    "    \n",
    "    # create the objects \n",
    "    sun = sphere(pos= vector(0,0,0), radius = r_sun, color = color.yellow)\n",
    "    earth = sphere(pos = vector(1.496e11, 0, 0), radius = r_earth, color = color.blue, make_trail = True)\n",
    "    \n",
    "    earth.velocity = vector(0, 3e4, 0)\n",
    "    \n",
    "    # define an initial time \n",
    "    t = 0\n",
    "    \n",
    "    # define a time interval\n",
    "    dt = 3600\n",
    "    \n",
    "    while (t <1e10):\n",
    "        rate(3000)\n",
    "        earth.pos = earth.pos + earth.velocity * dt\n",
    "        r_vector = earth.pos - sun.pos\n",
    "        F_grav = -(G * m_sun * m_earth / (mag(r_vector)**2)) * (norm(r_vector))\n",
    "        earth.velocity = earth.velocity + (F_grav/m_earth)*dt\n",
    "        t += dt\n",
    "main()  "
   ]
  },
  {
   "cell_type": "code",
   "execution_count": null,
   "id": "4885d748",
   "metadata": {},
   "outputs": [],
   "source": []
  }
 ],
 "metadata": {
  "kernelspec": {
   "display_name": "Python 3 (ipykernel)",
   "language": "python",
   "name": "python3"
  },
  "language_info": {
   "codemirror_mode": {
    "name": "ipython",
    "version": 3
   },
   "file_extension": ".py",
   "mimetype": "text/x-python",
   "name": "python",
   "nbconvert_exporter": "python",
   "pygments_lexer": "ipython3",
   "version": "3.10.0"
  }
 },
 "nbformat": 4,
 "nbformat_minor": 5
}
