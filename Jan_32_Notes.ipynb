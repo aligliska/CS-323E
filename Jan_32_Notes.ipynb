{
 "cells": [
  {
   "cell_type": "code",
   "execution_count": 5,
   "id": "af05e325",
   "metadata": {},
   "outputs": [
    {
     "name": "stdout",
     "output_type": "stream",
     "text": [
      "4.440892098500626e-16\n"
     ]
    }
   ],
   "source": [
    "import math \n",
    "a = (math.sqrt(2))**2 - 2\n",
    "print(a)"
   ]
  },
  {
   "cell_type": "code",
   "execution_count": null,
   "id": "e169929f",
   "metadata": {},
   "outputs": [],
   "source": [
    "# import libraries \n",
    "import matplotlib.pyplot as plt\n",
    "import numpy as np"
   ]
  },
  {
   "cell_type": "code",
   "execution_count": 2,
   "id": "c7006ca3",
   "metadata": {},
   "outputs": [],
   "source": [
    "# create data to plot \n",
    "x = np.linspace(0, 10, 100)\n",
    "y = 4 + 2 * np.sin(2*x)"
   ]
  },
  {
   "cell_type": "code",
   "execution_count": 4,
   "id": "fcbae4a0",
   "metadata": {},
   "outputs": [],
   "source": [
    "# display the plot \n",
    "plt.show()"
   ]
  },
  {
   "cell_type": "code",
   "execution_count": 3,
   "id": "1f7020df",
   "metadata": {},
   "outputs": [
    {
     "data": {
      "text/plain": [
       "Text(0, 0.5, 'Y')"
      ]
     },
     "execution_count": 3,
     "metadata": {},
     "output_type": "execute_result"
    },
    {
     "data": {
      "image/png": "[encoded data removed]",
      "text/plain": [
       "<Figure size 432x288 with 1 Axes>"
      ]
     },
     "metadata": {
      "needs_background": "light"
     },
     "output_type": "display_data"
    }
   ],
   "source": [
    "# plot the data\n",
    "plt.plot(x,y, linewidth = 2.0)\n",
    "plt.xlabel(\"x\")\n",
    "plt.ylabel(\"Y\")"
   ]
  },
  {
   "cell_type": "code",
   "execution_count": 15,
   "id": "ec029c8d",
   "metadata": {},
   "outputs": [
    {
     "name": "stdout",
     "output_type": "stream",
     "text": [
      "Enter value: 2\n",
      "1.4166666666666665\n",
      "1.4142156862745097\n",
      "1.4142135623746899\n",
      "1.414213562373095\n",
      "1.414213562373095\n"
     ]
    },
    {
     "data": {
      "text/plain": [
       "1.414213562373095"
      ]
     },
     "execution_count": 15,
     "metadata": {},
     "output_type": "execute_result"
    }
   ],
   "source": [
    "# compute square root of a number iteratively: \n",
    "# new_guess = ((N/old_guess) + old_guess) / 2\n",
    "\n",
    "def guess_sqrt(value):\n",
    "    accepted_diff = 1*10**(-6)\n",
    "    old = value / 2 \n",
    "    new = ((value/old) + old) / 2\n",
    "    actual_diff = abs(old - new)\n",
    "    while actual_diff > accepted_diff:\n",
    "        actual_diff = abs(old - new)\n",
    "        old = new \n",
    "        new = ((value/old) + old) / 2\n",
    "        print(new)\n",
    "    return(new)\n",
    "\n",
    "value = float(input(\"Enter value: \"))\n",
    "guess_sqrt(value)"
   ]
  },
  {
   "cell_type": "code",
   "execution_count": null,
   "id": "bf1563f0",
   "metadata": {},
   "outputs": [],
   "source": [
    "# binary search \n",
    "def binary_search (a, x):\n",
    "    low = 0\n",
    "    high = len(a) - 1\n",
    "    while (low <= high):\n",
    "        mid = (low + high) // 2\n",
    "        if (x > a[mid]):\n",
    "            low = mid + 1\n",
    "        elif (x < a[mid]):\n",
    "            high = mid - 1\n",
    "        else:\n",
    "            return mid\n",
    "    return -1"
   ]
  },
  {
   "cell_type": "code",
   "execution_count": 35,
   "id": "9abb804b",
   "metadata": {},
   "outputs": [
    {
     "name": "stdout",
     "output_type": "stream",
     "text": [
      "Enter value: 27\n"
     ]
    },
    {
     "data": {
      "text/plain": [
       "3.0"
      ]
     },
     "execution_count": 35,
     "metadata": {},
     "output_type": "execute_result"
    }
   ],
   "source": [
    "# Compute cube root of a number using binary search:\n",
    "# calculate new_mid, compare to new_mid **3 to actual value. if too large, high == new_mid, recalc... \n",
    "\n",
    "def guess_cubic(value):\n",
    "    accepted_diff = 1*10**(-6)\n",
    "    low, high = 0, value\n",
    "    mid = (high + low) / 2\n",
    "    actual_diff = value - (mid**3) \n",
    "    while (abs(actual_diff) > accepted_diff):\n",
    "        mid = (low + high) / 2\n",
    "        actual_diff = value - (mid**3) \n",
    "        if (mid**3 > value):\n",
    "            high = mid\n",
    "        elif (mid**3 < value):\n",
    "            low = mid\n",
    "        else:\n",
    "            return mid\n",
    "    return round(mid, 4)\n",
    "    \n",
    "value = float(input(\"Enter value: \"))\n",
    "guess_cubic(value)\n"
   ]
  },
  {
   "cell_type": "code",
   "execution_count": 27,
   "id": "61147ef3",
   "metadata": {},
   "outputs": [
    {
     "data": {
      "text/plain": [
       "[<matplotlib.lines.Line2D at 0x1198d1630>]"
      ]
     },
     "execution_count": 27,
     "metadata": {},
     "output_type": "execute_result"
    },
    {
     "data": {
      "image/png": "[encoded data removed]",
      "text/plain": [
       "<Figure size 432x288 with 1 Axes>"
      ]
     },
     "metadata": {
      "needs_background": "light"
     },
     "output_type": "display_data"
    }
   ],
   "source": [
    "x = np.linspace(0, 5, 100)\n",
    "y = np.sin(x) + x**2\n",
    "plt.plot(x, y, linewidth = 2.0)"
   ]
  },
  {
   "cell_type": "code",
   "execution_count": 29,
   "id": "37ac220d",
   "metadata": {},
   "outputs": [
    {
     "data": {
      "text/plain": [
       "[<matplotlib.lines.Line2D at 0x11996f280>]"
      ]
     },
     "execution_count": 29,
     "metadata": {},
     "output_type": "execute_result"
    },
    {
     "data": {
      "image/png": "[encoded data removed]",
      "text/plain": [
       "<Figure size 432x288 with 1 Axes>"
      ]
     },
     "metadata": {
      "needs_background": "light"
     },
     "output_type": "display_data"
    }
   ],
   "source": [
    "x = np.linspace(1, 5, 100)\n",
    "y = 2 * np.log(x) + 5\n",
    "plt.plot(x, y, linewidth = 2.0)"
   ]
  },
  {
   "cell_type": "code",
   "execution_count": 37,
   "id": "9a2bfd9a",
   "metadata": {
    "scrolled": true
   },
   "outputs": [
    {
     "data": {
      "text/plain": [
       "[<matplotlib.lines.Line2D at 0x11caecd30>]"
      ]
     },
     "execution_count": 37,
     "metadata": {},
     "output_type": "execute_result"
    },
    {
     "data": {
      "image/png": "[encoded data removed]",
      "text/plain": [
       "<Figure size 432x288 with 1 Axes>"
      ]
     },
     "metadata": {
      "needs_background": "light"
     },
     "output_type": "display_data"
    }
   ],
   "source": [
    "x = np.linspace(1, 5, 100)\n",
    "y = np.sin(x) + x**2 - 2 * np.log(x) - 5\n",
    "plt.plot(x, y, linewidth = 2.0)"
   ]
  },
  {
   "cell_type": "code",
   "execution_count": 39,
   "id": "760ea3a4",
   "metadata": {},
   "outputs": [
    {
     "name": "stdout",
     "output_type": "stream",
     "text": [
      "Enter value: 2\n"
     ]
    },
    {
     "data": {
      "text/plain": [
       "2.4953192472457886"
      ]
     },
     "execution_count": 39,
     "metadata": {},
     "output_type": "execute_result"
    }
   ],
   "source": [
    "def bisection(value):\n",
    "    accepted_diff = 1*10**(-6)\n",
    "    lower, upper = 0, 5\n",
    "    mid = (lower + upper) / 2\n",
    "    new_y = np.sin(mid) + mid**2 - 2 * np.log(mid) - 5\n",
    "    actual_diff = 0-new_y\n",
    "    while (abs(actual_diff) > accepted_diff):\n",
    "        mid = (lower + upper) / 2\n",
    "        new_y = np.sin(mid) + mid**2 - 2 * np.log(mid) - 5\n",
    "        actual_diff = 0-new_y \n",
    "        if (new_y > 0):\n",
    "            upper = mid\n",
    "        elif (new_y < 0):\n",
    "            lower = mid\n",
    "        else:\n",
    "            return mid\n",
    "    return(mid)\n",
    "\n",
    "value = float(input(\"Enter value: \"))\n",
    "bisection(value)"
   ]
  },
  {
   "cell_type": "code",
   "execution_count": null,
   "id": "45ddc16c",
   "metadata": {},
   "outputs": [],
   "source": [
    "Write a Python script in Jupyter Notebook to find the root of the\n",
    "  following equation using the Bisection Method:\n",
    "  sin(x) + x^2 = 2 * ln(x) + 5\n"
   ]
  }
 ],
 "metadata": {
  "kernelspec": {
   "display_name": "Python 3 (ipykernel)",
   "language": "python",
   "name": "python3"
  },
  "language_info": {
   "codemirror_mode": {
    "name": "ipython",
    "version": 3
   },
   "file_extension": ".py",
   "mimetype": "text/x-python",
   "name": "python",
   "nbconvert_exporter": "python",
   "pygments_lexer": "ipython3",
   "version": "3.10.0"
  }
 },
 "nbformat": 4,
 "nbformat_minor": 5
}
