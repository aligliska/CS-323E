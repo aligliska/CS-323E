{
 "cells": [
  {
   "cell_type": "code",
   "execution_count": null,
   "id": "ec918e50",
   "metadata": {},
   "outputs": [],
   "source": [
    "# y'' + 5y' + 6y = 0\n",
    "    # given that y = e^(rx), so y' = r*e^(rx) and y'' = r^2*e^(rx) \n",
    "# Then substitue --> r^2*e^(rx) + 5r^2*e^(rx) + 6e^(rx) = 0\n",
    "    # (r^2 + 5r + 6)*e^(rx) = 0\n",
    "    # ((r^2 + 5r + 6)*e^(rx)) / 0 = 0\n",
    "    ## (r^2 + 5r + 6) = 0 --> (r + 2)(r + 3) --> r = -2 or -3\n",
    "    ## y = c_1*e^(-2x) or y = c_2*e^(-3x)\n",
    "# y = c_1*e^(-2x) + c_2*e^(-3x)"
   ]
  },
  {
   "cell_type": "code",
   "execution_count": 1,
   "id": "a77a12c3",
   "metadata": {},
   "outputs": [
    {
     "data": {
      "image/png": "[encoded data removed]",
      "text/plain": [
       "<Figure size 432x288 with 1 Axes>"
      ]
     },
     "metadata": {
      "needs_background": "light"
     },
     "output_type": "display_data"
    },
    {
     "data": {
      "image/png": "[encoded data removed]",
      "text/plain": [
       "<Figure size 432x288 with 1 Axes>"
      ]
     },
     "metadata": {
      "needs_background": "light"
     },
     "output_type": "display_data"
    }
   ],
   "source": [
    "import numpy as np\n",
    "import matplotlib.pyplot as plt\n",
    "\n",
    "def rk4_1d (f, x0, y0, xmax, h): \n",
    "    # set up the domain of the function between x0, xmax, and h\n",
    "    x = np.linspace(x0, xmax)\n",
    "\n",
    "    # zero out the range of the function for the given domain\n",
    "    y = np.zeros_like (x)\n",
    "\n",
    "    # fill in the initial conditions\n",
    "    x[0] = x0\n",
    "    y[0] = y0\n",
    "\n",
    "    # now compute the range using the Runge-Kutta formalism\n",
    "    for i in range (1, len(x)):\n",
    "        k1 = h * f (x[i-1], y[i-1])\n",
    "        k2 = h * f (x[i-1] + h/2, y[i-1] + k1/2)\n",
    "        k3 = h * f (x[i-1] + h/2, y[i-1] + k2/2)\n",
    "        k4 = h * f (x[i-1] + h, y[i-1] + k3)\n",
    "        delta_y = (k1 + 2 * k2 + 2 * k3 + k4) / 6\n",
    "        x[i] = x[i-1] + h\n",
    "        y[i] = y[i-1] + delta_y\n",
    "\n",
    "    # return the solution\n",
    "    return x, y\n",
    "\n",
    "def main():\n",
    "    # define your function f(x, y) as a lambda function\n",
    "    # specify x even if x does not show up in f(x, y)\n",
    "    f = lambda x, y: -(1/3)*y + np.sin(x)\n",
    "\n",
    "    # specify the initial conditions\n",
    "    x0 = 0\n",
    "    y0 = 1\n",
    "\n",
    "    # specify the max in your domain\n",
    "    xmax = 10\n",
    "\n",
    "    # specify the increment in x\n",
    "    dx = 0.1\n",
    "\n",
    "    # get the solution of the differential equation\n",
    "    x, y = rk4_1d (f, x0, y0, xmax, dx)\n",
    "\n",
    "    # display the  numerical solution\n",
    "    plt.plot (x, y, 'red')\n",
    "\n",
    "    # for the vector (domain) x get the analytical range y_actual\n",
    "    y_actual = (1/10) * (19 * np.exp(-x/3) + 3 * np.sin(x) - 9 * np.cos(x))\n",
    "\n",
    "    # display the analytical solution\n",
    "    plt.plot (x, y_actual, 'blue')\n",
    "\n",
    "    plt.grid()\n",
    "    plt.show()\n",
    "\n",
    "    # estimate the error of your numerical solution\n",
    "    # obtain the root-mean-square of your residuals (y - y_actual)\n",
    "    dx_store = [x*0.1 for x in range(50)]\n",
    "    std_store = []\n",
    "    \n",
    "    for dx in dx_store:\n",
    "        x, y = rk4_1d (f, x0, y0, xmax, dx)\n",
    "        temp = np.sqrt(np.mean((y - y_actual)**2))\n",
    "        std_store.append(temp)\n",
    "    plt.loglog(dx_store, std_store)\n",
    "\n",
    "    # print both dx and std to the same precision for comparison\n",
    "\n",
    "main()"
   ]
  },
  {
   "cell_type": "code",
   "execution_count": 2,
   "id": "40bf143e",
   "metadata": {},
   "outputs": [],
   "source": [
    "# for a damped oscillator:\n",
    "    # F = -kx\n",
    "    # ma = -kx such that d^2x/dt^2 = -k/m * x\n",
    "    # x = Acos(Ωt)\n",
    "    # Ω^2 = k/m\n",
    "# d^2x/dt^2 = - Ω^2 * x\n",
    "    # | dx/dt = v, dv/dt = Ω^2 * x |\n",
    "# ex: t = 0, x_0 = 1, Ω = 1, v_0 = 0\n",
    "    # x = x = Acos(Ωt)\n",
    "    # x _k+1 = x_k + v_k * ∆t\n",
    "    # v_k+1 = v_k - Ω^2 * x_k * ∆t"
   ]
  },
  {
   "cell_type": "code",
   "execution_count": 3,
   "id": "5ea795cc",
   "metadata": {},
   "outputs": [],
   "source": [
    "def euler_1d (f, x0, y0, xmax, h): \n",
    "    # set up the domain of the function between x0, xmax, and h\n",
    "    x = np.linspace(x0, xmax)\n",
    "\n",
    "    # zero out the range of the function for the given domain\n",
    "    y = np.zeros_like (x)\n",
    "\n",
    "    # fill in the initial conditions\n",
    "    x[0] = x0\n",
    "    y[0] = y0\n",
    "\n",
    "    # now compute the range using Euler's approximation\n",
    "    for i in range (1, len(x)):\n",
    "        x[i] = x[i-1] + h\n",
    "        y[i] = y[i-1] + h*f(x[i-1], y[i-1])\n",
    "\n",
    "    # return the solution\n",
    "    return x, y"
   ]
  },
  {
   "cell_type": "code",
   "execution_count": 13,
   "id": "bc2643ad",
   "metadata": {},
   "outputs": [
    {
     "data": {
      "text/plain": [
       "[<matplotlib.lines.Line2D at 0x11b5aa9e0>]"
      ]
     },
     "execution_count": 13,
     "metadata": {},
     "output_type": "execute_result"
    },
    {
     "data": {
      "image/png": "[encoded data removed]",
      "text/plain": [
       "<Figure size 432x288 with 1 Axes>"
      ]
     },
     "metadata": {
      "needs_background": "light"
     },
     "output_type": "display_data"
    }
   ],
   "source": [
    "f = lambda w, x: 0.25 * np.cos(w*x)\n",
    "f_prime = lambda v: v \n",
    "f_double_prime = lambda w, x: -w**2 * x\n",
    "F = [f, f_prime, f_double_prime]\n",
    "x0 = 0\n",
    "x_max = 10\n",
    "w = 1\n",
    "k = 25\n",
    "\n",
    "def euler (F, w, x0, x_max, k):    \n",
    "    # time interval \n",
    "    x = np.linspace(x0, x_max, k)\n",
    "    y = np.zeros_like (x)\n",
    "    v = np.zeros_like (x)\n",
    "    \n",
    "    # movement \n",
    "    y[0] = F[0](w, x0)\n",
    "    v[0] = F[1](x0)\n",
    "    \n",
    "    for i in range(1, k):\n",
    "        y[i] = y[i-1] + (x[i] - x[i-1]) * v[i-1]\n",
    "        v[i] = v[i-1] + (x[i] - x[i-1]) * F[2](w, y[i])\n",
    "     \n",
    "    return(y)\n",
    "\n",
    "temp = euler (F, w, x0, x_max, k)\n",
    "x = np.linspace(x0, x_max)\n",
    "plt.plot(temp)"
   ]
  },
  {
   "cell_type": "code",
   "execution_count": null,
   "id": "8862d0d9",
   "metadata": {},
   "outputs": [],
   "source": [
    "# equations to solve \n",
    "    # y_k+1 = y_k + (x_k+1 - x_k) * v_k  initial conditions (x0, y0)\n",
    "    # v_k+1 = v_k + (x_k+1 - x_k) * f(x_k, y_k, v_k) initial conditions (x0, y'0)\n",
    "\n",
    "# d^2x/dt^2 = - Ω^2 * x\n",
    "    # | dx/dt = v, dv/dt = Ω^2 * x |\n",
    "        # y' = v, v' = y'' = Ω^2 * x\n",
    "    # d^2x/dt^2 = y'' = v' = f(x, y, v) = f(x, y, y')\n",
    "# ex: t = 0, x_0 = 1, Ω = 1, v_0 = 0\n",
    "    # x = x = Acos(Ωt)\n",
    "    # x_k+1 = x_k + v_k * ∆t\n",
    "    # v_k+1 = v_k - Ω^2 * x_k * ∆t\n",
    "# w = k/m\n",
    "# y' = v\n",
    "# v' = Ω^2 * x"
   ]
  }
 ],
 "metadata": {
  "kernelspec": {
   "display_name": "Python 3 (ipykernel)",
   "language": "python",
   "name": "python3"
  },
  "language_info": {
   "codemirror_mode": {
    "name": "ipython",
    "version": 3
   },
   "file_extension": ".py",
   "mimetype": "text/x-python",
   "name": "python",
   "nbconvert_exporter": "python",
   "pygments_lexer": "ipython3",
   "version": "3.10.0"
  }
 },
 "nbformat": 4,
 "nbformat_minor": 5
}
