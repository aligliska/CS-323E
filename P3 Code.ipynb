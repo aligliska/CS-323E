{
 "cells": [
  {
   "cell_type": "code",
   "execution_count": 33,
   "id": "038a1baa",
   "metadata": {},
   "outputs": [
    {
     "name": "stderr",
     "output_type": "stream",
     "text": [
      "/var/folders/sx/gw6n5mnj28x21kcmksnp_p240000gn/T/ipykernel_12892/1487459634.py:44: ComplexWarning: Casting complex values to real discards the imaginary part\n",
      "  psi[0, :] = np.exp(-((x - x0)**2/(2*sigma**2))) * np.exp(1j*k*x)\n"
     ]
    }
   ],
   "source": [
    "import numpy as np\n",
    "import matplotlib.pyplot as plt\n",
    "from scipy.integrate import odeint\n",
    "import time\n",
    "\n",
    "# constants \n",
    "h = 6.63e-34 # Js\n",
    "h_bar = 1.05e-34 # Js\n",
    "m = 9.109e-31 # kg\n",
    "v = 3e8 #m/s\n",
    "λ = 2.42e-12 #m\n",
    "N = 150\n",
    "L = 1e-8 #m \n",
    "x0 = L / 2\n",
    "sigma = 1e-10 #m\n",
    "k = 5e10 # m^-1\n",
    "dx = L/N\n",
    "dt = 1e-18 # s\n",
    "\n",
    "start = time.time()\n",
    "# solve for a1, a2\n",
    "a1 = 1 + dt * ((1j * h_bar) / (2*m*dx**2))\n",
    "a2 = - dt * ((1j*h_bar)/ (4*m*dx**2))\n",
    "\n",
    "# solve for b1, b2\n",
    "b1 = 1 - dt * ((1j * h_bar) / (2*m*dx**2)) \n",
    "b2 = dt * ((1j*h_bar)/ (4*m*dx**2))\n",
    "\n",
    "# create A matrix \n",
    "A = np.diagflat([a2 for i in range(N-1)], -1) +\\\n",
    "        np.diagflat([a1]+[a1 for i in range(N-2)]+[a1]) +\\\n",
    "        np.diagflat([a2 for i in range(N-1)], 1)\n",
    "A = np.array(A)\n",
    "\n",
    "# create B matrix\n",
    "B = np.diagflat([b2 for i in range(N-1)], -1) +\\\n",
    "        np.diagflat([b1]+[b1 for i in range(N-2)]+[b1]) +\\\n",
    "        np.diagflat([b2 for i in range(N-1)], 1)\n",
    "B = np.array(B)\n",
    "\n",
    "# create psi matrix\n",
    "x = np.linspace(0, L, N)\n",
    "psi = np.zeros((N, N))\n",
    "psi[0, :] = np.exp(-((x - x0)**2/(2*sigma**2))) * np.exp(1j*k*x)"
   ]
  },
  {
   "cell_type": "code",
   "execution_count": 34,
   "id": "a29a3e65",
   "metadata": {},
   "outputs": [
    {
     "name": "stdout",
     "output_type": "stream",
     "text": [
      "0.11986088752746582\n"
     ]
    },
    {
     "name": "stderr",
     "output_type": "stream",
     "text": [
      "/var/folders/sx/gw6n5mnj28x21kcmksnp_p240000gn/T/ipykernel_12892/1587257988.py:4: ComplexWarning: Casting complex values to real discards the imaginary part\n",
      "  psi[i, :] = next_psi\n"
     ]
    }
   ],
   "source": [
    "for i in range(1, 101):\n",
    "    current_psi = psi[i-1, :]\n",
    "    next_psi = np.linalg.solve(A, B.dot(current_psi))\n",
    "    psi[i, :] = next_psi\n",
    "end = time.time()\n",
    "difference = end - start\n",
    "print(difference)"
   ]
  },
  {
   "cell_type": "code",
   "execution_count": 35,
   "id": "201e47bb",
   "metadata": {},
   "outputs": [
    {
     "data": {
      "text/plain": [
       "Text(0.5, 1.0, 'Crank-Nicolson Finite Difference Method of the Schrödinger Equation at t = 1e-16')"
      ]
     },
     "execution_count": 35,
     "metadata": {},
     "output_type": "execute_result"
    },
    {
     "data": {
      "image/png": "[encoded data removed]",
      "text/plain": [
       "<Figure size 432x288 with 1 Axes>"
      ]
     },
     "metadata": {
      "needs_background": "light"
     },
     "output_type": "display_data"
    }
   ],
   "source": [
    "# at t = 1e-16, dt = 1e-18 (i.e. 100 time steps)\n",
    "plt.plot(x, abs(psi[100, :]))\n",
    "plt.xlabel(\"x\")\n",
    "plt.ylabel(\"Ψ\")\n",
    "plt.title(\"Crank-Nicolson Finite Difference Method of the Schrödinger Equation at t = 1e-16\")"
   ]
  },
  {
   "cell_type": "code",
   "execution_count": 36,
   "id": "08c30399",
   "metadata": {},
   "outputs": [
    {
     "name": "stderr",
     "output_type": "stream",
     "text": [
      "/var/folders/sx/gw6n5mnj28x21kcmksnp_p240000gn/T/ipykernel_12892/2712318557.py:26: ComplexWarning: Casting complex values to real discards the imaginary part\n",
      "  psi[0, :] = np.exp(-((x - x0)**2/(2*sigma**2))) * np.exp(1j*k*x)\n",
      "/var/folders/sx/gw6n5mnj28x21kcmksnp_p240000gn/T/ipykernel_12892/2712318557.py:31: ComplexWarning: Casting complex values to real discards the imaginary part\n",
      "  psi[i, :] = next_psi\n"
     ]
    },
    {
     "name": "stdout",
     "output_type": "stream",
     "text": [
      "5.3806939125061035\n"
     ]
    },
    {
     "data": {
      "text/plain": [
       "Text(0.5, 1.0, 'Crank-Nicolson Finite Difference Method of the Schrödinger Equation at t = 1e-16')"
      ]
     },
     "execution_count": 36,
     "metadata": {},
     "output_type": "execute_result"
    },
    {
     "data": {
      "image/png": "[encoded data removed]",
      "text/plain": [
       "<Figure size 432x288 with 1 Axes>"
      ]
     },
     "metadata": {
      "needs_background": "light"
     },
     "output_type": "display_data"
    }
   ],
   "source": [
    "N = 1000\n",
    "start = time.time()\n",
    "# solve for a1, a2\n",
    "a1 = 1 + dt * ((1j * h_bar) / (2*m*dx**2))\n",
    "a2 = - dt * ((1j*h_bar)/ (4*m*dx**2))\n",
    "\n",
    "# solve for b1, b2\n",
    "b1 = 1 - dt * ((1j * h_bar) / (2*m*dx**2)) \n",
    "b2 = dt * ((1j*h_bar)/ (4*m*dx**2))\n",
    "\n",
    "# create A matrix \n",
    "A = np.diagflat([a2 for i in range(N-1)], -1) +\\\n",
    "        np.diagflat([a1]+[a1 for i in range(N-2)]+[a1]) +\\\n",
    "        np.diagflat([a2 for i in range(N-1)], 1)\n",
    "A = np.array(A)\n",
    "\n",
    "# create B matrix\n",
    "B = np.diagflat([b2 for i in range(N-1)], -1) +\\\n",
    "        np.diagflat([b1]+[b1 for i in range(N-2)]+[b1]) +\\\n",
    "        np.diagflat([b2 for i in range(N-1)], 1)\n",
    "B = np.array(B)\n",
    "\n",
    "# create psi matrix\n",
    "x = np.linspace(0, L, N)\n",
    "psi = np.zeros((N, N))\n",
    "psi[0, :] = np.exp(-((x - x0)**2/(2*sigma**2))) * np.exp(1j*k*x)\n",
    "\n",
    "for i in range(1, 101):\n",
    "    current_psi = psi[i-1, :]\n",
    "    next_psi = np.linalg.solve(A, B.dot(current_psi))\n",
    "    psi[i, :] = next_psi\n",
    "end = time.time()\n",
    "difference = end - start\n",
    "print(difference)\n",
    "\n",
    "# at t = 1e-16, dt = 1e-18 (i.e. 100 time steps)\n",
    "plt.plot(x, abs(psi[100, :]))\n",
    "plt.xlabel(\"x\")\n",
    "plt.ylabel(\"Ψ\")\n",
    "plt.title(\"Crank-Nicolson Finite Difference Method of the Schrödinger Equation at t = 1e-16\")"
   ]
  },
  {
   "cell_type": "code",
   "execution_count": 38,
   "id": "448c5c6e",
   "metadata": {},
   "outputs": [
    {
     "name": "stdout",
     "output_type": "stream",
     "text": [
      "0.022903919219970703\n"
     ]
    },
    {
     "data": {
      "text/plain": [
       "Text(0.5, 1.0, 'Pseudospectral fast Fourier transform Method of the Schrödinger Equation at t = 1e-16')"
      ]
     },
     "execution_count": 38,
     "metadata": {},
     "output_type": "execute_result"
    },
    {
     "data": {
      "image/png": "[encoded data removed]",
      "text/plain": [
       "<Figure size 432x288 with 1 Axes>"
      ]
     },
     "metadata": {
      "needs_background": "light"
     },
     "output_type": "display_data"
    }
   ],
   "source": [
    "# Psuedospectral method \n",
    "h_bar = 1.05e-34 # Js\n",
    "m = 9.109e-31 # kg\n",
    "sigma = 1e-10 #m\n",
    "k = 5e10 # m^-1\n",
    "\n",
    "a_squared = (1j*h_bar)/(2*m)\n",
    "L = 1e-8 #m \n",
    "x0 = L / 2\n",
    "dx = L/N\n",
    "\n",
    "start = time.time()\n",
    "a_squared = (1j*h_bar)/(2*m)\n",
    "N = 150\n",
    "\n",
    "x = np.arange(0, L, dx)\n",
    "kappa = 2 * np.pi * np.fft.fftfreq(N, d = dx)\n",
    "psi_0 = lambda x_r: np.exp(-(x_r-x0)**2/(2*sigma**2)) * np.exp(1j * k * x_r)\n",
    "\n",
    "psi0 = psi_0(x)\n",
    "psi0hat = np.fft.fft(psi0)\n",
    "psi0hat_ri = np.concatenate((psi0hat.real, psi0hat.imag))\n",
    "\n",
    "dt = 1e-16/100\n",
    "t = np.arange(0, 1e-16, dt)\n",
    "\n",
    "def rhs_quantum(psihat_ri, t, kappa, alpha_squared):\n",
    "    psihat = psihat_ri[:N] + 1j * psihat_ri[N:]\n",
    "    d_psihat = -alpha_squared * (np.power(kappa, 2)) * psihat\n",
    "    d_psihat_ri = np.concatenate((d_psihat.real, d_psihat.imag)).astype('float64')\n",
    "    return d_psihat_ri\n",
    "\n",
    "psihat_ri = odeint(rhs_quantum, psi0hat_ri, t, args = (kappa, a_squared))\n",
    "\n",
    "psihat = psihat_ri[:,:N] + 1j * psihat_ri[:,N:]\n",
    "psi = np.zeros_like(psihat)\n",
    "for i in range(len(t)):\n",
    "    psi[i,:] = np.fft.ifft(psihat[i,:])\n",
    "psi = psi.real\n",
    "\n",
    "end = time.time() \n",
    "difference = end - start\n",
    "print(difference)\n",
    "\n",
    "plt.plot(x, abs(psi[-1]))\n",
    "plt.xlabel(\"x\")\n",
    "plt.ylabel(\"Ψ\")\n",
    "plt.title(\"Pseudospectral fast Fourier transform Method of the Schrödinger Equation at t = 1e-16\")"
   ]
  },
  {
   "cell_type": "code",
   "execution_count": 41,
   "id": "21b6fa17",
   "metadata": {},
   "outputs": [
    {
     "name": "stdout",
     "output_type": "stream",
     "text": [
      "0.15822792053222656\n"
     ]
    },
    {
     "data": {
      "text/plain": [
       "Text(0.5, 1.0, 'Pseudospectral fast Fourier transform Method of the Schrödinger Equation at t = 1e-16')"
      ]
     },
     "execution_count": 41,
     "metadata": {},
     "output_type": "execute_result"
    },
    {
     "data": {
      "image/png": "[encoded data removed]",
      "text/plain": [
       "<Figure size 432x288 with 1 Axes>"
      ]
     },
     "metadata": {
      "needs_background": "light"
     },
     "output_type": "display_data"
    }
   ],
   "source": [
    "# Psuedospectral method with N = 1000\n",
    "start = time.time()\n",
    "a_squared = (1j*h_bar)/(2*m)\n",
    "N = 1000\n",
    "\n",
    "x = np.arange(0, L, dx)\n",
    "kappa = 2 * np.pi * np.fft.fftfreq(N, d = dx)\n",
    "psi_0 = lambda x_r: np.exp(-(x_r-x0)**2/(2*sigma**2)) * np.exp(1j * k * x_r)\n",
    "\n",
    "psi0 = psi_0(x)\n",
    "psi0hat = np.fft.fft(psi0)\n",
    "psi0hat_ri = np.concatenate((psi0hat.real, psi0hat.imag))\n",
    "\n",
    "dt = 1e-16/100\n",
    "t = np.arange(0, 1e-16, dt)\n",
    "\n",
    "def rhs_quantum(psihat_ri, t, kappa, alpha_squared):\n",
    "    psihat = psihat_ri[:N] + 1j * psihat_ri[N:]\n",
    "    d_psihat = -alpha_squared * (np.power(kappa, 2)) * psihat\n",
    "    d_psihat_ri = np.concatenate((d_psihat.real, d_psihat.imag)).astype('float64')\n",
    "    return d_psihat_ri\n",
    "\n",
    "psihat_ri = odeint(rhs_quantum, psi0hat_ri, t, args = (kappa, a_squared))\n",
    "\n",
    "psihat = psihat_ri[:,:N] + 1j * psihat_ri[:,N:]\n",
    "psi = np.zeros_like(psihat)\n",
    "for i in range(len(t)):\n",
    "    psi[i,:] = np.fft.ifft(psihat[i,:])\n",
    "psi = psi.real\n",
    "\n",
    "end = time.time() \n",
    "difference = end - start\n",
    "print(difference)\n",
    "\n",
    "plt.plot(x, abs(psi[-1]))\n",
    "plt.xlabel(\"x\")\n",
    "plt.ylabel(\"Ψ\")\n",
    "plt.title(\"Pseudospectral fast Fourier transform Method of the Schrödinger Equation at t = 1e-16\")"
   ]
  },
  {
   "cell_type": "code",
   "execution_count": null,
   "id": "5da95c7c",
   "metadata": {},
   "outputs": [],
   "source": []
  }
 ],
 "metadata": {
  "kernelspec": {
   "display_name": "Python 3 (ipykernel)",
   "language": "python",
   "name": "python3"
  },
  "language_info": {
   "codemirror_mode": {
    "name": "ipython",
    "version": 3
   },
   "file_extension": ".py",
   "mimetype": "text/x-python",
   "name": "python",
   "nbconvert_exporter": "python",
   "pygments_lexer": "ipython3",
   "version": "3.10.0"
  }
 },
 "nbformat": 4,
 "nbformat_minor": 5
}
