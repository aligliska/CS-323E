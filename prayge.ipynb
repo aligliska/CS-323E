{
 "cells": [
  {
   "cell_type": "code",
   "execution_count": 8,
   "id": "04dfbf7b",
   "metadata": {},
   "outputs": [],
   "source": [
    "import numpy as np\n",
    "import matplotlib.pyplot as plt\n",
    "from scipy.integrate import odeint\n",
    "\n",
    "h_bar = 1.05e-34 # Js\n",
    "m = 9.109e-31 # kg\n",
    "sigma = 1e-10 #m\n",
    "k = 5e10 # m^-1\n",
    "\n",
    "a_squared = (1j*h_bar)/(2*m)\n",
    "L = 1e-8 #m \n",
    "N = 1000\n",
    "x0 = L / 2\n",
    "dx = L/N\n",
    "\n",
    "x = np.arange(0, L, dx)\n",
    "kappa = 2 * np.pi * np.fft.fftfreq(N, d = dx)\n",
    "\n",
    "psi_0 = lambda x_r: np.exp(-(x_r-x0)**2/(2*sigma**2)) * np.exp(1j * k * x_r)"
   ]
  },
  {
   "cell_type": "code",
   "execution_count": 9,
   "id": "e660f2a4",
   "metadata": {},
   "outputs": [
    {
     "data": {
      "text/plain": [
       "[<matplotlib.lines.Line2D at 0x11a491ba0>]"
      ]
     },
     "execution_count": 9,
     "metadata": {},
     "output_type": "execute_result"
    },
    {
     "data": {
      "image/png": "[encoded data removed]",
      "text/plain": [
       "<Figure size 432x288 with 1 Axes>"
      ]
     },
     "metadata": {
      "needs_background": "light"
     },
     "output_type": "display_data"
    }
   ],
   "source": [
    "psi0 = psi_0(x)\n",
    "psi0hat = np.fft.fft(psi0)\n",
    "psi0hat_ri = np.concatenate((psi0hat.real, psi0hat.imag))\n",
    "plt.plot(x, abs(psi0))"
   ]
  },
  {
   "cell_type": "code",
   "execution_count": 10,
   "id": "2c4ef48e",
   "metadata": {},
   "outputs": [],
   "source": [
    "dt = 1e-16/100\n",
    "t = np.arange(0, 1e-16, dt)"
   ]
  },
  {
   "cell_type": "code",
   "execution_count": 11,
   "id": "81f187c8",
   "metadata": {},
   "outputs": [],
   "source": [
    "def rhs_quantum(psihat_ri, t, kappa, alpha_squared):\n",
    "    psihat = psihat_ri[:N] + 1j * psihat_ri[N:]\n",
    "    d_psihat = -alpha_squared * (np.power(kappa, 2)) * psihat\n",
    "    d_psihat_ri = np.concatenate((d_psihat.real, d_psihat.imag)).astype('float64')\n",
    "    return d_psihat_ri"
   ]
  },
  {
   "cell_type": "code",
   "execution_count": 12,
   "id": "d4126f07",
   "metadata": {},
   "outputs": [],
   "source": [
    "psihat_ri = odeint(rhs_quantum, psi0hat_ri, t, args = (kappa, a_squared))"
   ]
  },
  {
   "cell_type": "code",
   "execution_count": 13,
   "id": "d6cef5bd",
   "metadata": {},
   "outputs": [],
   "source": [
    "psihat = psihat_ri[:,:N] + 1j * psihat_ri[:,N:]\n",
    "psi = np.zeros_like(psihat)\n",
    "for i in range(len(t)):\n",
    "    psi[i,:] = np.fft.ifft(psihat[i,:])\n",
    "psi = psi.real"
   ]
  },
  {
   "cell_type": "code",
   "execution_count": 14,
   "id": "783388fb",
   "metadata": {},
   "outputs": [
    {
     "data": {
      "text/plain": [
       "[<matplotlib.lines.Line2D at 0x11c9d1210>]"
      ]
     },
     "execution_count": 14,
     "metadata": {},
     "output_type": "execute_result"
    },
    {
     "data": {
      "image/png": "[encoded data removed]",
      "text/plain": [
       "<Figure size 432x288 with 1 Axes>"
      ]
     },
     "metadata": {
      "needs_background": "light"
     },
     "output_type": "display_data"
    }
   ],
   "source": [
    "plt.plot(x, abs(psi[0]))\n",
    "plt.plot(x, abs(psi[-1]))"
   ]
  },
  {
   "cell_type": "code",
   "execution_count": null,
   "id": "1cb133b0",
   "metadata": {},
   "outputs": [],
   "source": []
  }
 ],
 "metadata": {
  "kernelspec": {
   "display_name": "Python 3 (ipykernel)",
   "language": "python",
   "name": "python3"
  },
  "language_info": {
   "codemirror_mode": {
    "name": "ipython",
    "version": 3
   },
   "file_extension": ".py",
   "mimetype": "text/x-python",
   "name": "python",
   "nbconvert_exporter": "python",
   "pygments_lexer": "ipython3",
   "version": "3.10.0"
  }
 },
 "nbformat": 4,
 "nbformat_minor": 5
}
